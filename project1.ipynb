{
 "cells": [
  {
   "cell_type": "code",
   "execution_count": 56,
   "metadata": {
    "deletable": false,
    "editable": false
   },
   "outputs": [
    {
     "name": "stdout",
     "output_type": "stream",
     "text": [
      "=====================================================================\n",
      "Assignment: Project 1: World Progress\n",
      "OK, version v1.18.1\n",
      "=====================================================================\n",
      "\n"
     ]
    }
   ],
   "source": [
    "# Initialize OK\n",
    "from client.api.notebook import Notebook\n",
    "ok = Notebook('project1.ok')"
   ]
  },
  {
   "cell_type": "markdown",
   "metadata": {},
   "source": [
    "## Project 1: World Progress"
   ]
  },
  {
   "cell_type": "markdown",
   "metadata": {},
   "source": [
    "In this project, you'll explore data from [Gapminder.org](http://gapminder.org), a website dedicated to providing a fact-based view of the world and how it has changed. That site includes several data visualizations and presentations, but also publishes the raw data that we will use in this project to recreate and extend some of their most famous visualizations.\n",
    "\n",
    "The Gapminder website collects data from many sources and compiles them into tables that describe many countries around the world. All of the data they aggregate are published in the [Systema Globalis](https://github.com/open-numbers/ddf--gapminder--systema_globalis/blob/master/README.md). Their goal is \"to compile all public statistics; Social, Economic and Environmental; into a comparable total dataset.\" All data sets in this project are copied directly from the Systema Globalis without any changes.\n",
    "\n",
    "This project is dedicated to [Hans Rosling](https://en.wikipedia.org/wiki/Hans_Rosling) (1948-2017), who championed the use of data to understand and prioritize global development challenges."
   ]
  },
  {
   "cell_type": "markdown",
   "metadata": {},
   "source": [
    "### Logistics\n",
    "\n",
    "**Deadline.** This project is due at 11:59pm P.D.T. on Friday 10/02. Projects will be accepted up to 2 days (48 hours) late; a project submitted less than 24 hours after the deadline will receive 2/3 credit, a project submitted between 24 and 48 hours after the deadline will receive 1/3 credit, and a project submitted 48 hours or more after the deadline will receive no credit. It's **much** better to be early than late, so start working now.\n",
    "\n",
    "**Checkpoint.** For full credit, you must also complete the first 8 questions, pass all public autograder tests, and submit to okpy by 11:59pm P.D.T. on Friday 9/25. After you've submitted the checkpoint, you may still change your answers before the project deadline - only your final submission will be graded for correctness. You will have some lab time to work on these questions, but we recommend that you start the project before lab and leave time to finish the checkpoint afterward.\n",
    "\n",
    "**Partners.** You may work with one other partner; your partner must be from your assigned lab section. Only one of you is required to submit the project. On [okpy.org](http://okpy.org), the person who submits should also designate their partner so that both of you receive credit.\n",
    "\n",
    "**Rules.** Don't share your code with anybody but your partner. You are welcome to discuss questions with other students, but don't share the answers. The experience of solving the problems in this project will prepare you for exams (and life). If someone asks you for the answer, resist! Instead, you can demonstrate how you would solve a similar problem.\n",
    "\n",
    "**Support.** You are not alone! Come to office hours, post on Piazza, and talk to your classmates. If you want to ask about the details of your solution to a problem, make a private Piazza post and the staff will respond. If you're ever feeling overwhelmed or don't know how to make progress, email your TA or tutor for help. You can find contact information for the staff on the [course website](http://data8.org/sp20/staff.html).\n",
    "\n",
    "**Tests.** The tests that are given are **not comprehensive** and passing the tests for a question **does not** mean that you answered the question correctly. Tests usually only check that your table has the correct column labels. However, more tests will be applied to verify the correctness of your submission in order to assign your final score, so be careful and check your work! You might want to create your own checks along the way to see if your answers make sense. Additionally, before you submit, make sure that none of your cells take a very long time to run (several minutes).\n",
    "\n",
    "**Free Response Questions:** Make sure that you put the answers to the written questions in the indicated cell we provide. Check to make sure that you have a [Gradescope](http://gradescope.com) account, which is where the scores to the free response questions will be posted. If you do not, make sure to reach out to your assigned (u)GSI.\n",
    "\n",
    "**Advice.** Develop your answers incrementally. To perform a complicated table manipulation, break it up into steps, perform each step on a different line, give a new name to each result, and check that each intermediate result is what you expect. You can add any additional names or functions you want to the provided cells. Make sure that you are using distinct and meaningful variable names throughout the notebook. Along that line, **DO NOT** reuse the variable names that we use when we grade your answers. For example, in Question 1 of the Global Poverty section, we ask you to assign an answer to `latest`. Do not reassign the variable name `latest` to anything else in your notebook, otherwise there is the chance that our tests grade against what `latest` was reassigned to.\n",
    "\n",
    "You **never** have to use just one line in this project or any others. Use intermediate variables and multiple lines as much as you would like!  \n",
    "\n",
    "To get started, load `datascience`, `numpy`, `plots`, and `ok`."
   ]
  },
  {
   "cell_type": "code",
   "execution_count": 57,
   "metadata": {},
   "outputs": [
    {
     "name": "stdout",
     "output_type": "stream",
     "text": [
      "=====================================================================\n",
      "Assignment: Project 1: World Progress\n",
      "OK, version v1.18.1\n",
      "=====================================================================\n",
      "\n"
     ]
    }
   ],
   "source": [
    "from datascience import *\n",
    "import numpy as np\n",
    "\n",
    "%matplotlib inline\n",
    "import matplotlib.pyplot as plots\n",
    "plots.style.use('fivethirtyeight')\n",
    "\n",
    "from client.api.notebook import Notebook\n",
    "ok = Notebook('project1.ok')"
   ]
  },
  {
   "cell_type": "markdown",
   "metadata": {},
   "source": [
    "Before continuing the assignment, select \"Save and Checkpoint\" in the File menu and then execute the submit cell below. The result will contain a link that you can use to check that your assignment has been submitted successfully. If you submit more than once before the deadline, we will only grade your final submission. If you mistakenly submit the wrong one, you can head to okpy.org and flag the correct version. There will be another submit cell at the end of the assignment when you finish!"
   ]
  },
  {
   "cell_type": "code",
   "execution_count": 58,
   "metadata": {},
   "outputs": [
    {
     "data": {
      "application/javascript": [
       "IPython.notebook.save_checkpoint();"
      ],
      "text/plain": [
       "<IPython.core.display.Javascript object>"
      ]
     },
     "metadata": {},
     "output_type": "display_data"
    },
    {
     "data": {
      "application/javascript": [
       "IPython.notebook.save_notebook();"
      ],
      "text/plain": [
       "<IPython.core.display.Javascript object>"
      ]
     },
     "metadata": {},
     "output_type": "display_data"
    },
    {
     "name": "stdout",
     "output_type": "stream",
     "text": [
      "Saving notebook... Saved 'project1.ipynb'.\n",
      "Submit... 100% complete\n",
      "Submission successful for user: samihamahin@berkeley.edu\n",
      "URL: https://okpy.org/cal/data8/fa20/project1/submissions/pkELDm\n",
      "\n"
     ]
    }
   ],
   "source": [
    "_ = ok.submit()"
   ]
  },
  {
   "cell_type": "markdown",
   "metadata": {
    "deletable": false,
    "editable": false
   },
   "source": [
    "## 1. Global Population Growth\n"
   ]
  },
  {
   "cell_type": "markdown",
   "metadata": {
    "deletable": false,
    "editable": false
   },
   "source": [
    "The global population of humans reached 1 billion around 1800, 3 billion around 1960, and 7 billion around 2011. The potential impact of exponential population growth has concerned scientists, economists, and politicians alike.\n",
    "\n",
    "The UN Population Division estimates that the world population will likely continue to grow throughout the 21st century, but at a slower rate, perhaps reaching 11 billion by 2100. However, the UN does not rule out scenarios of more extreme growth.\n",
    "\n",
    "<a href=\"http://www.pewresearch.org/fact-tank/2015/06/08/scientists-more-worried-than-public-about-worlds-growing-population/ft_15-06-04_popcount/\"> \n",
    " <img src=\"pew_population_projection.png\"/> \n",
    "</a>\n",
    "\n",
    "In this section, we will examine some of the factors that influence population growth and how they are changing around the world.\n",
    "\n",
    "The first table we will consider is the total population of each country over time. Run the cell below."
   ]
  },
  {
   "cell_type": "code",
   "execution_count": 59,
   "metadata": {
    "deletable": false
   },
   "outputs": [
    {
     "data": {
      "text/html": [
       "<table border=\"1\" class=\"dataframe\">\n",
       "    <thead>\n",
       "        <tr>\n",
       "            <th>geo</th> <th>time</th> <th>population_total</th>\n",
       "        </tr>\n",
       "    </thead>\n",
       "    <tbody>\n",
       "        <tr>\n",
       "            <td>afg </td> <td>1800</td> <td>3280000         </td>\n",
       "        </tr>\n",
       "        <tr>\n",
       "            <td>afg </td> <td>1801</td> <td>3280000         </td>\n",
       "        </tr>\n",
       "        <tr>\n",
       "            <td>afg </td> <td>1802</td> <td>3280000         </td>\n",
       "        </tr>\n",
       "    </tbody>\n",
       "</table>\n",
       "<p>... (43534 rows omitted)</p>"
      ],
      "text/plain": [
       "<IPython.core.display.HTML object>"
      ]
     },
     "metadata": {},
     "output_type": "display_data"
    }
   ],
   "source": [
    "population = Table.read_table('population.csv').where(\"time\", are.below(2021))\n",
    "population.show(3)"
   ]
  },
  {
   "cell_type": "markdown",
   "metadata": {},
   "source": [
    "**Note:** The population csv file can also be found [here](https://github.com/open-numbers/ddf--gapminder--systema_globalis/raw/master/ddf--datapoints--population_total--by--geo--time.csv). The data for this project was downloaded in April 2020."
   ]
  },
  {
   "cell_type": "markdown",
   "metadata": {
    "deletable": false
   },
   "source": [
    "### Haiti\n",
    "\n",
    "In the `population` table, the `geo` column contains three-letter codes established by the [International Organization for Standardization](https://en.wikipedia.org/wiki/International_Organization_for_Standardization) (ISO) in the [Alpha-3](https://en.wikipedia.org/wiki/ISO_3166-1_alpha-3#Current_codes) standard. We will begin by taking a close look at Haiti. Use the ISO link to find the 3-letter code for Haiti."
   ]
  },
  {
   "cell_type": "markdown",
   "metadata": {
    "deletable": false,
    "editable": false
   },
   "source": [
    "**Question 1.** Create a table called `h_pop` that has two columns labeled `time` and `population_total`. The first column should contain the years from 1970 through 2020 (including both 1970 and 2020) and the second should contain the population of Haiti in each of those years.\n",
    "\n",
    "<!--\n",
    "BEGIN QUESTION\n",
    "name: q1_1\n",
    "-->"
   ]
  },
  {
   "cell_type": "code",
   "execution_count": 60,
   "metadata": {
    "deletable": false
   },
   "outputs": [
    {
     "data": {
      "text/html": [
       "<table border=\"1\" class=\"dataframe\">\n",
       "    <thead>\n",
       "        <tr>\n",
       "            <th>time</th> <th>population_total</th>\n",
       "        </tr>\n",
       "    </thead>\n",
       "    <tbody>\n",
       "        <tr>\n",
       "            <td>1970</td> <td>4676237         </td>\n",
       "        </tr>\n",
       "        <tr>\n",
       "            <td>1971</td> <td>4757175         </td>\n",
       "        </tr>\n",
       "        <tr>\n",
       "            <td>1972</td> <td>4837334         </td>\n",
       "        </tr>\n",
       "        <tr>\n",
       "            <td>1973</td> <td>4918625         </td>\n",
       "        </tr>\n",
       "        <tr>\n",
       "            <td>1974</td> <td>5003708         </td>\n",
       "        </tr>\n",
       "        <tr>\n",
       "            <td>1975</td> <td>5094570         </td>\n",
       "        </tr>\n",
       "        <tr>\n",
       "            <td>1976</td> <td>5191637         </td>\n",
       "        </tr>\n",
       "        <tr>\n",
       "            <td>1977</td> <td>5294625         </td>\n",
       "        </tr>\n",
       "        <tr>\n",
       "            <td>1978</td> <td>5404020         </td>\n",
       "        </tr>\n",
       "        <tr>\n",
       "            <td>1979</td> <td>5520187         </td>\n",
       "        </tr>\n",
       "    </tbody>\n",
       "</table>\n",
       "<p>... (41 rows omitted)</p>"
      ],
      "text/plain": [
       "time | population_total\n",
       "1970 | 4676237\n",
       "1971 | 4757175\n",
       "1972 | 4837334\n",
       "1973 | 4918625\n",
       "1974 | 5003708\n",
       "1975 | 5094570\n",
       "1976 | 5191637\n",
       "1977 | 5294625\n",
       "1978 | 5404020\n",
       "1979 | 5520187\n",
       "... (41 rows omitted)"
      ]
     },
     "execution_count": 60,
     "metadata": {},
     "output_type": "execute_result"
    }
   ],
   "source": [
    "h_pop = Table().with_columns(\n",
    "    'time', np.arange(1970, 2021), \n",
    "    'population_total', population.where('geo', are.equal_to('hti')).where('time', are.between_or_equal_to(1970,2020)).column('population_total')\n",
    ")\n",
    "h_pop"
   ]
  },
  {
   "cell_type": "code",
   "execution_count": 61,
   "metadata": {
    "deletable": false,
    "editable": false
   },
   "outputs": [
    {
     "name": "stdout",
     "output_type": "stream",
     "text": [
      "~~~~~~~~~~~~~~~~~~~~~~~~~~~~~~~~~~~~~~~~~~~~~~~~~~~~~~~~~~~~~~~~~~~~~\n",
      "Running tests\n",
      "\n",
      "---------------------------------------------------------------------\n",
      "Test summary\n",
      "    Passed: 2\n",
      "    Failed: 0\n",
      "[ooooooooook] 100.0% passed\n",
      "\n"
     ]
    }
   ],
   "source": [
    "ok.grade(\"q1_1\");"
   ]
  },
  {
   "cell_type": "markdown",
   "metadata": {
    "deletable": false
   },
   "source": [
    "Run the following cell to create a table called `h_decade` that has the population of Haiti for every ten years starting in 1970 and going up to 2020. At a glance, it appears that the population of Haiti has been growing quickly indeed!"
   ]
  },
  {
   "cell_type": "code",
   "execution_count": 62,
   "metadata": {
    "deletable": false
   },
   "outputs": [
    {
     "data": {
      "text/html": [
       "<table border=\"1\" class=\"dataframe\">\n",
       "    <thead>\n",
       "        <tr>\n",
       "            <th>time</th> <th>population_total</th>\n",
       "        </tr>\n",
       "    </thead>\n",
       "    <tbody>\n",
       "        <tr>\n",
       "            <td>1970</td> <td>4,676,237       </td>\n",
       "        </tr>\n",
       "        <tr>\n",
       "            <td>1980</td> <td>5,643,175       </td>\n",
       "        </tr>\n",
       "        <tr>\n",
       "            <td>1990</td> <td>7,037,915       </td>\n",
       "        </tr>\n",
       "        <tr>\n",
       "            <td>2000</td> <td>8,463,802       </td>\n",
       "        </tr>\n",
       "        <tr>\n",
       "            <td>2010</td> <td>9,949,318       </td>\n",
       "        </tr>\n",
       "        <tr>\n",
       "            <td>2020</td> <td>11,402,533      </td>\n",
       "        </tr>\n",
       "    </tbody>\n",
       "</table>"
      ],
      "text/plain": [
       "<IPython.core.display.HTML object>"
      ]
     },
     "metadata": {},
     "output_type": "display_data"
    }
   ],
   "source": [
    "h_pop.set_format('population_total', NumberFormatter)\n",
    "\n",
    "tens = np.arange(1970, 2021, 10) # 1970, 1980, 1990, ...\n",
    "h_decade = h_pop.sort('time').where('time', are.contained_in(tens))\n",
    "h_decade.show()"
   ]
  },
  {
   "cell_type": "markdown",
   "metadata": {
    "deletable": false,
    "editable": false
   },
   "source": [
    "**Question 2.** Assign `initial` to an array that contains the population for every ten year interval from 1970 to 2010. Then, assign `changed` to an array that contains the population for every ten year interval from 1980 to 2020. You should use the `h_decade` table to create both arrays, first filtering the table to only contain the relevant years.\n",
    "\n",
    "The annual growth rate for a time period is equal to:\n",
    "\n",
    "$$(\\frac{\\text{Population at end of period}}{\\text{Population at start of period}}^{\\frac{1}{\\text{number of years}}} )-1$$\n",
    "\n",
    "We have provided the code below that uses  `initial` and `changed` in order to add a column to `h_decade` called `annual_growth`. Don't worry about the calculation of the growth rates; run the test below to test your solution.\n",
    "\n",
    "If you are interested in how we came up with the formula for growth rates, consult the [growth rates](https://www.inferentialthinking.com/chapters/03/2/1/growth) section of the textbook.\n",
    "\n",
    "<!--\n",
    "BEGIN QUESTION\n",
    "name: q1_2\n",
    "-->"
   ]
  },
  {
   "cell_type": "code",
   "execution_count": 63,
   "metadata": {},
   "outputs": [
    {
     "data": {
      "text/html": [
       "<table border=\"1\" class=\"dataframe\">\n",
       "    <thead>\n",
       "        <tr>\n",
       "            <th>time</th> <th>population_total</th> <th>annual_growth</th>\n",
       "        </tr>\n",
       "    </thead>\n",
       "    <tbody>\n",
       "        <tr>\n",
       "            <td>1970</td> <td>4,676,237       </td> <td>1.90%        </td>\n",
       "        </tr>\n",
       "        <tr>\n",
       "            <td>1980</td> <td>5,643,175       </td> <td>2.23%        </td>\n",
       "        </tr>\n",
       "        <tr>\n",
       "            <td>1990</td> <td>7,037,915       </td> <td>1.86%        </td>\n",
       "        </tr>\n",
       "        <tr>\n",
       "            <td>2000</td> <td>8,463,802       </td> <td>1.63%        </td>\n",
       "        </tr>\n",
       "        <tr>\n",
       "            <td>2010</td> <td>9,949,318       </td> <td>1.37%        </td>\n",
       "        </tr>\n",
       "    </tbody>\n",
       "</table>"
      ],
      "text/plain": [
       "time | population_total | annual_growth\n",
       "1970 | 4,676,237        | 1.90%\n",
       "1980 | 5,643,175        | 2.23%\n",
       "1990 | 7,037,915        | 1.86%\n",
       "2000 | 8,463,802        | 1.63%\n",
       "2010 | 9,949,318        | 1.37%"
      ]
     },
     "execution_count": 63,
     "metadata": {},
     "output_type": "execute_result"
    }
   ],
   "source": [
    "initial = h_decade.where('time', are.between_or_equal_to(1970,2010)).column('population_total')\n",
    "changed = h_decade.where('time', are.between_or_equal_to(1980,2020)).column('population_total')\n",
    "\n",
    "growth_rates = ((changed/initial)**0.1)-1\n",
    "\n",
    "h_1970_through_2010 = h_decade.where('time', are.below_or_equal_to(2010)) \n",
    "h_decade_growth = h_1970_through_2010.with_column('annual_growth', growth_rates)\n",
    "# Don't change this line!\n",
    "h_decade_growth.set_format('annual_growth', PercentFormatter)"
   ]
  },
  {
   "cell_type": "code",
   "execution_count": 64,
   "metadata": {
    "deletable": false,
    "editable": false
   },
   "outputs": [
    {
     "name": "stdout",
     "output_type": "stream",
     "text": [
      "~~~~~~~~~~~~~~~~~~~~~~~~~~~~~~~~~~~~~~~~~~~~~~~~~~~~~~~~~~~~~~~~~~~~~\n",
      "Running tests\n",
      "\n",
      "---------------------------------------------------------------------\n",
      "Test summary\n",
      "    Passed: 2\n",
      "    Failed: 0\n",
      "[ooooooooook] 100.0% passed\n",
      "\n"
     ]
    }
   ],
   "source": [
    "ok.grade(\"q1_2\");"
   ]
  },
  {
   "cell_type": "markdown",
   "metadata": {
    "deletable": false
   },
   "source": [
    "While the population has grown every decade since 1970, the annual growth rate decreased dramatically from 1980 to 2020. Let's look at some other information in order to develop a possible explanation. Run the next cell to load three additional tables of measurements about countries over time."
   ]
  },
  {
   "cell_type": "code",
   "execution_count": 65,
   "metadata": {
    "deletable": false
   },
   "outputs": [],
   "source": [
    "life_expectancy = Table.read_table('life_expectancy.csv').where('time', are.below(2021))\n",
    "child_mortality = Table.read_table('child_mortality.csv').relabel(2, 'child_mortality_under_5_per_1000_born').where('time', are.below(2021))\n",
    "fertility = Table.read_table('fertility.csv').where('time', are.below(2021))"
   ]
  },
  {
   "cell_type": "markdown",
   "metadata": {
    "deletable": false,
    "editable": false
   },
   "source": [
    "The `life_expectancy` table contains a statistic that is often used to measure how long people live, called *life expectancy at birth*. This number, for a country in a given year, [does not measure how long babies born in that year are expected to live](http://blogs.worldbank.org/opendata/what-does-life-expectancy-birth-really-mean). Instead, it measures how long someone would live, on average, if the *mortality conditions* in that year persisted throughout their lifetime. These \"mortality conditions\" describe what fraction of people at each age survived the year. So, it is a way of measuring the proportion of people that are staying alive, aggregated over different age groups in the population."
   ]
  },
  {
   "cell_type": "markdown",
   "metadata": {},
   "source": [
    "Run the following cells below to see `life_expectancy`, `child_mortality`, and `fertility`. Refer back to these tables as they will be helpful for answering further questions!"
   ]
  },
  {
   "cell_type": "code",
   "execution_count": 66,
   "metadata": {},
   "outputs": [
    {
     "data": {
      "text/html": [
       "<table border=\"1\" class=\"dataframe\">\n",
       "    <thead>\n",
       "        <tr>\n",
       "            <th>geo</th> <th>time</th> <th>life_expectancy_years</th>\n",
       "        </tr>\n",
       "    </thead>\n",
       "    <tbody>\n",
       "        <tr>\n",
       "            <td>afg </td> <td>1800</td> <td>28.21                </td>\n",
       "        </tr>\n",
       "        <tr>\n",
       "            <td>afg </td> <td>1801</td> <td>28.2                 </td>\n",
       "        </tr>\n",
       "        <tr>\n",
       "            <td>afg </td> <td>1802</td> <td>28.19                </td>\n",
       "        </tr>\n",
       "        <tr>\n",
       "            <td>afg </td> <td>1803</td> <td>28.18                </td>\n",
       "        </tr>\n",
       "        <tr>\n",
       "            <td>afg </td> <td>1804</td> <td>28.17                </td>\n",
       "        </tr>\n",
       "        <tr>\n",
       "            <td>afg </td> <td>1805</td> <td>28.16                </td>\n",
       "        </tr>\n",
       "        <tr>\n",
       "            <td>afg </td> <td>1806</td> <td>28.15                </td>\n",
       "        </tr>\n",
       "        <tr>\n",
       "            <td>afg </td> <td>1807</td> <td>28.14                </td>\n",
       "        </tr>\n",
       "        <tr>\n",
       "            <td>afg </td> <td>1808</td> <td>28.13                </td>\n",
       "        </tr>\n",
       "        <tr>\n",
       "            <td>afg </td> <td>1809</td> <td>28.12                </td>\n",
       "        </tr>\n",
       "    </tbody>\n",
       "</table>\n",
       "<p>... (41240 rows omitted)</p>"
      ],
      "text/plain": [
       "geo  | time | life_expectancy_years\n",
       "afg  | 1800 | 28.21\n",
       "afg  | 1801 | 28.2\n",
       "afg  | 1802 | 28.19\n",
       "afg  | 1803 | 28.18\n",
       "afg  | 1804 | 28.17\n",
       "afg  | 1805 | 28.16\n",
       "afg  | 1806 | 28.15\n",
       "afg  | 1807 | 28.14\n",
       "afg  | 1808 | 28.13\n",
       "afg  | 1809 | 28.12\n",
       "... (41240 rows omitted)"
      ]
     },
     "execution_count": 66,
     "metadata": {},
     "output_type": "execute_result"
    }
   ],
   "source": [
    "life_expectancy"
   ]
  },
  {
   "cell_type": "code",
   "execution_count": 67,
   "metadata": {},
   "outputs": [
    {
     "data": {
      "text/html": [
       "<table border=\"1\" class=\"dataframe\">\n",
       "    <thead>\n",
       "        <tr>\n",
       "            <th>geo</th> <th>time</th> <th>child_mortality_under_5_per_1000_born</th>\n",
       "        </tr>\n",
       "    </thead>\n",
       "    <tbody>\n",
       "        <tr>\n",
       "            <td>afg </td> <td>1800</td> <td>468.58                               </td>\n",
       "        </tr>\n",
       "        <tr>\n",
       "            <td>afg </td> <td>1801</td> <td>468.58                               </td>\n",
       "        </tr>\n",
       "        <tr>\n",
       "            <td>afg </td> <td>1802</td> <td>468.58                               </td>\n",
       "        </tr>\n",
       "        <tr>\n",
       "            <td>afg </td> <td>1803</td> <td>468.58                               </td>\n",
       "        </tr>\n",
       "        <tr>\n",
       "            <td>afg </td> <td>1804</td> <td>468.58                               </td>\n",
       "        </tr>\n",
       "        <tr>\n",
       "            <td>afg </td> <td>1805</td> <td>468.58                               </td>\n",
       "        </tr>\n",
       "        <tr>\n",
       "            <td>afg </td> <td>1806</td> <td>469.98                               </td>\n",
       "        </tr>\n",
       "        <tr>\n",
       "            <td>afg </td> <td>1807</td> <td>469.98                               </td>\n",
       "        </tr>\n",
       "        <tr>\n",
       "            <td>afg </td> <td>1808</td> <td>469.98                               </td>\n",
       "        </tr>\n",
       "        <tr>\n",
       "            <td>afg </td> <td>1809</td> <td>469.98                               </td>\n",
       "        </tr>\n",
       "    </tbody>\n",
       "</table>\n",
       "<p>... (41727 rows omitted)</p>"
      ],
      "text/plain": [
       "geo  | time | child_mortality_under_5_per_1000_born\n",
       "afg  | 1800 | 468.58\n",
       "afg  | 1801 | 468.58\n",
       "afg  | 1802 | 468.58\n",
       "afg  | 1803 | 468.58\n",
       "afg  | 1804 | 468.58\n",
       "afg  | 1805 | 468.58\n",
       "afg  | 1806 | 469.98\n",
       "afg  | 1807 | 469.98\n",
       "afg  | 1808 | 469.98\n",
       "afg  | 1809 | 469.98\n",
       "... (41727 rows omitted)"
      ]
     },
     "execution_count": 67,
     "metadata": {},
     "output_type": "execute_result"
    }
   ],
   "source": [
    "child_mortality"
   ]
  },
  {
   "cell_type": "code",
   "execution_count": 68,
   "metadata": {},
   "outputs": [
    {
     "data": {
      "text/html": [
       "<table border=\"1\" class=\"dataframe\">\n",
       "    <thead>\n",
       "        <tr>\n",
       "            <th>geo</th> <th>time</th> <th>children_per_woman_total_fertility</th>\n",
       "        </tr>\n",
       "    </thead>\n",
       "    <tbody>\n",
       "        <tr>\n",
       "            <td>abw </td> <td>1800</td> <td>5.64                              </td>\n",
       "        </tr>\n",
       "        <tr>\n",
       "            <td>abw </td> <td>1801</td> <td>5.64                              </td>\n",
       "        </tr>\n",
       "        <tr>\n",
       "            <td>abw </td> <td>1802</td> <td>5.64                              </td>\n",
       "        </tr>\n",
       "        <tr>\n",
       "            <td>abw </td> <td>1803</td> <td>5.64                              </td>\n",
       "        </tr>\n",
       "        <tr>\n",
       "            <td>abw </td> <td>1804</td> <td>5.64                              </td>\n",
       "        </tr>\n",
       "        <tr>\n",
       "            <td>abw </td> <td>1805</td> <td>5.64                              </td>\n",
       "        </tr>\n",
       "        <tr>\n",
       "            <td>abw </td> <td>1806</td> <td>5.64                              </td>\n",
       "        </tr>\n",
       "        <tr>\n",
       "            <td>abw </td> <td>1807</td> <td>5.64                              </td>\n",
       "        </tr>\n",
       "        <tr>\n",
       "            <td>abw </td> <td>1808</td> <td>5.64                              </td>\n",
       "        </tr>\n",
       "        <tr>\n",
       "            <td>abw </td> <td>1809</td> <td>5.64                              </td>\n",
       "        </tr>\n",
       "    </tbody>\n",
       "</table>\n",
       "<p>... (44625 rows omitted)</p>"
      ],
      "text/plain": [
       "geo  | time | children_per_woman_total_fertility\n",
       "abw  | 1800 | 5.64\n",
       "abw  | 1801 | 5.64\n",
       "abw  | 1802 | 5.64\n",
       "abw  | 1803 | 5.64\n",
       "abw  | 1804 | 5.64\n",
       "abw  | 1805 | 5.64\n",
       "abw  | 1806 | 5.64\n",
       "abw  | 1807 | 5.64\n",
       "abw  | 1808 | 5.64\n",
       "abw  | 1809 | 5.64\n",
       "... (44625 rows omitted)"
      ]
     },
     "execution_count": 68,
     "metadata": {},
     "output_type": "execute_result"
    }
   ],
   "source": [
    "fertility"
   ]
  },
  {
   "cell_type": "markdown",
   "metadata": {
    "deletable": false,
    "editable": false
   },
   "source": [
    "**Question 3.** Perhaps population is growing more slowly because people aren't living as long. Use the `life_expectancy` table to draw a line graph with the years 1970 and later on the horizontal axis that shows how the *life expectancy at birth* has changed in Haiti.\n",
    "\n",
    "<!--\n",
    "BEGIN QUESTION\n",
    "name: q1_3\n",
    "manual: true\n",
    "-->\n",
    "<!-- EXPORT TO PDF -->"
   ]
  },
  {
   "cell_type": "code",
   "execution_count": 69,
   "metadata": {
    "deletable": false,
    "export_pdf": true,
    "manual_grade": true,
    "manual_problem_id": "global_pop_3"
   },
   "outputs": [
    {
     "data": {
      "image/png": "[encoded data removed]",
      "text/plain": [
       "<Figure size 432x288 with 1 Axes>"
      ]
     },
     "metadata": {},
     "output_type": "display_data"
    }
   ],
   "source": [
    "#Fill in code here\n",
    "life_expectancy.where('geo', 'hti').where('time', are.above_or_equal_to(1970)).plot('time', 'life_expectancy_years')"
   ]
  },
  {
   "cell_type": "markdown",
   "metadata": {
    "deletable": false,
    "editable": false
   },
   "source": [
    "**Question 4.** Assuming everything else stays the same, do the trends in life expectancy in the graph above directly explain why the population growth rate decreased from 1980 to 2020 in Haiti? Why or why not? \n",
    "\n",
    "Hint: What happened in Haiti in 2010, and does that event explain the overall change in population growth rate?\n",
    "\n",
    "<!--\n",
    "BEGIN QUESTION\n",
    "name: q1_4\n",
    "manual: true\n",
    "-->\n",
    "<!-- EXPORT TO PDF -->"
   ]
  },
  {
   "cell_type": "markdown",
   "metadata": {
    "collapsed": true,
    "deletable": false,
    "export_pdf": true,
    "manual_grade": true,
    "manual_problem_id": "global_pop_4"
   },
   "source": [
    "In 2010, Haiti had a huge earthquake which had led to a drop in life expectancy this would lead to an overall change in population rate because of the effects the earthquake had on the people of Haiti: death of women that were about to give birth, destruction of hospitals and other care centers, and desctruction of key infastructure. "
   ]
  },
  {
   "cell_type": "markdown",
   "metadata": {
    "deletable": false,
    "editable": false
   },
   "source": [
    "The `fertility` table contains a statistic that is often used to measure how many babies are being born, the *total fertility rate*. This number describes the [number of children a woman would have in her lifetime](https://www.measureevaluation.org/prh/rh_indicators/specific/fertility/total-fertility-rate), on average, if the current rates of birth by age of the mother persisted throughout her child bearing years, assuming she survived through age 49. "
   ]
  },
  {
   "cell_type": "markdown",
   "metadata": {
    "deletable": false,
    "editable": false
   },
   "source": [
    "**Question 5.** Write a function `fertility_over_time` that takes the Alpha-3 code of a `country` and a `start` year. It returns a two-column table with labels `Year` and `Children per woman` that can be used to generate a line chart of the country's fertility rate each year, starting at the `start` year. The plot should include the `start` year and all later years that appear in the `fertility` table. \n",
    "\n",
    "Then, in the next cell, call your `fertility_over_time` function on the Alpha-3 code for Haiti and the year 1970 in order to plot how Haiti's fertility rate has changed since 1970. Note that the function `fertility_over_time` should not return the plot itself. **The expression that draws the line plot is provided for you; please don't change it.**\n",
    "\n",
    "<!--\n",
    "BEGIN QUESTION\n",
    "name: q1_5\n",
    "-->"
   ]
  },
  {
   "cell_type": "code",
   "execution_count": 70,
   "metadata": {
    "deletable": false
   },
   "outputs": [
    {
     "data": {
      "image/png": "[encoded data removed]",
      "text/plain": [
       "<Figure size 432x288 with 1 Axes>"
      ]
     },
     "metadata": {},
     "output_type": "display_data"
    }
   ],
   "source": [
    "def fertility_over_time(country, start):\n",
    "    \"\"\"Create a two-column table that describes a country's total fertility rate each year.\"\"\"\n",
    "    country_fertility = fertility.where('geo', are.containing(country))\n",
    "    country_fertility_after_start = country_fertility.where('time', are.above_or_equal_to(start))\n",
    "    cleaned_table = Table().with_columns(\n",
    "        'Year', country_fertility_after_start.column('time'), \n",
    "        'Children per woman', country_fertility_after_start.column('children_per_woman_total_fertility')\n",
    "    )\n",
    "    return cleaned_table\n",
    "\n",
    "haiti_code = 'hti'\n",
    "fertility_over_time(haiti_code, 1970).plot(0, 1) # You should *not* change this line."
   ]
  },
  {
   "cell_type": "code",
   "execution_count": 71,
   "metadata": {
    "deletable": false,
    "editable": false
   },
   "outputs": [
    {
     "name": "stdout",
     "output_type": "stream",
     "text": [
      "~~~~~~~~~~~~~~~~~~~~~~~~~~~~~~~~~~~~~~~~~~~~~~~~~~~~~~~~~~~~~~~~~~~~~\n",
      "Running tests\n",
      "\n",
      "---------------------------------------------------------------------\n",
      "Test summary\n",
      "    Passed: 3\n",
      "    Failed: 0\n",
      "[ooooooooook] 100.0% passed\n",
      "\n"
     ]
    }
   ],
   "source": [
    "ok.grade(\"q1_5\");"
   ]
  },
  {
   "cell_type": "markdown",
   "metadata": {
    "deletable": false,
    "editable": false
   },
   "source": [
    "**Question 6.** Assuming everything else is constant, do the trends in fertility in the graph above help directly explain why the population growth rate decreased from 1980 to 2020 in Haiti? Why or why not?\n",
    "\n",
    "<!--\n",
    "BEGIN QUESTION\n",
    "name: q1_6\n",
    "manual: true\n",
    "-->\n",
    "<!-- EXPORT TO PDF -->"
   ]
  },
  {
   "cell_type": "markdown",
   "metadata": {
    "deletable": false,
    "export_pdf": true,
    "manual_grade": true,
    "manual_problem_id": "global_pop_6"
   },
   "source": [
    "The trends in fertility directly explains why population growth decreased because the fertility rates dropped leading to a smaller number of child birth which in turn leads to a smaller increase in population. "
   ]
  },
  {
   "cell_type": "markdown",
   "metadata": {
    "deletable": false
   },
   "source": [
    "It has been observed that lower fertility rates are often associated with lower child mortality rates. The link has been attributed to family planning: if parents can expect that their children will all survive into adulthood, then they will choose to have fewer children. We can see if this association is evident in Haiti by plotting the relationship between total fertility rate and [child mortality rate per 1000 children](https://en.wikipedia.org/wiki/Child_mortality)."
   ]
  },
  {
   "cell_type": "markdown",
   "metadata": {
    "deletable": false,
    "editable": false
   },
   "source": [
    "**Question 7.** Using both the `fertility` and `child_mortality` tables, draw a scatter diagram that has Haiti's total fertility on the horizontal axis and its child mortality on the vertical axis with one point for each year, starting with 1970.\n",
    "\n",
    "**The expression that draws the scatter diagram is provided for you; please don't change it.** Instead, create a table called `post_1969_fertility_and_child_mortality` with the appropriate column labels and data in order to generate the chart correctly. Use the label `Children per woman` to describe total fertility and the label `Child deaths per 1000 born` to describe child mortality.\n",
    "\n",
    "<!--\n",
    "BEGIN QUESTION\n",
    "name: q1_7\n",
    "manual: false\n",
    "-->"
   ]
  },
  {
   "cell_type": "code",
   "execution_count": 72,
   "metadata": {
    "deletable": false
   },
   "outputs": [
    {
     "data": {
      "image/png": "[encoded data removed]",
      "text/plain": [
       "<Figure size 360x360 with 1 Axes>"
      ]
     },
     "metadata": {},
     "output_type": "display_data"
    }
   ],
   "source": [
    "hti_fertility = fertility.where('geo', are.containing('hti'))\n",
    "hti_child_mortality = child_mortality.where('geo', are.containing('hti'))\n",
    "fertility_and_child_mortality = hti_fertility.join('time', hti_child_mortality, 'time')\n",
    "post_1969_fertility_and_child_mortality = fertility_and_child_mortality.where('time', are.above_or_equal_to(1970)).relabel('children_per_woman_total_fertility', 'Children per woman').relabel('child_mortality_under_5_per_1000_born', 'Child deaths per 1000 born')\n",
    "\n",
    "# Don't change this line!\n",
    "post_1969_fertility_and_child_mortality.scatter('Children per woman', 'Child deaths per 1000 born')"
   ]
  },
  {
   "cell_type": "code",
   "execution_count": 73,
   "metadata": {
    "deletable": false,
    "editable": false
   },
   "outputs": [
    {
     "name": "stdout",
     "output_type": "stream",
     "text": [
      "~~~~~~~~~~~~~~~~~~~~~~~~~~~~~~~~~~~~~~~~~~~~~~~~~~~~~~~~~~~~~~~~~~~~~\n",
      "Running tests\n",
      "\n",
      "---------------------------------------------------------------------\n",
      "Test summary\n",
      "    Passed: 2\n",
      "    Failed: 0\n",
      "[ooooooooook] 100.0% passed\n",
      "\n"
     ]
    }
   ],
   "source": [
    "ok.grade(\"q1_7\");"
   ]
  },
  {
   "cell_type": "markdown",
   "metadata": {
    "deletable": false,
    "editable": false
   },
   "source": [
    "**Question 8.** In one or two sentences, describe the association (if any) that is illustrated by this scatter diagram. Does the diagram show that reduced child mortality causes parents to choose to have fewer children? Beyond the general association, are there any irregularities or odd points that would be worth investigating? \n",
    "\n",
    "<!--\n",
    "BEGIN QUESTION\n",
    "name: q1_8\n",
    "manual: true\n",
    "-->\n",
    "<!-- EXPORT TO PDF -->"
   ]
  },
  {
   "cell_type": "markdown",
   "metadata": {
    "deletable": false,
    "export_pdf": true,
    "manual_grade": true,
    "manual_problem_id": "global_pop_8"
   },
   "source": [
    "There is a negative association between child mortality and time, as time goes on generally the child mortality rate decreases. The diagram does show that the reduced child mortality causes parents to have fewer children which leads to a lower child mortality rate. There is an irregularity in 2010 worth investigating. "
   ]
  },
  {
   "cell_type": "code",
   "execution_count": 74,
   "metadata": {},
   "outputs": [
    {
     "data": {
      "image/png": "[encoded data removed]",
      "text/plain": [
       "<Figure size 360x360 with 1 Axes>"
      ]
     },
     "metadata": {},
     "output_type": "display_data"
    }
   ],
   "source": [
    "# Don't change this line!\n",
    "post_1969_fertility_and_child_mortality.scatter('time', 'Child deaths per 1000 born')"
   ]
  },
  {
   "cell_type": "markdown",
   "metadata": {
    "deletable": false,
    "editable": false
   },
   "source": [
    "**Question 9.** Using our knowledge that historical factors may affect Haiti's population, we decide to plot the child mortality rate per 1000 born against time, as seen in the scatter plot above. The y-axis remains the same as the plot from 1.8, but we are now plotting against time rather than the number of children per woman. Does this new visualization give us a better understanding of the outlier in 1.8?\n",
    "<!--\n",
    "BEGIN QUESTION\n",
    "name: q1_9\n",
    "manual: true\n",
    "-->\n",
    "<!-- EXPORT TO PDF -->"
   ]
  },
  {
   "cell_type": "markdown",
   "metadata": {
    "export_pdf": true
   },
   "source": [
    "This new visualization gives us a better understand of the outlier in 1.8 because in the scatter plot in 1.7 it is not clear to deduce the reason of the outlier because it shows that the outlier was in 2010 which was the year of the earthquake. "
   ]
  },
  {
   "cell_type": "markdown",
   "metadata": {},
   "source": [
    "### Checkpoint (due Friday 9/25)\n",
    "#### Congratulations, you have reached the checkpoint! Run the submit cell below to generate the checkpoint submission."
   ]
  },
  {
   "cell_type": "code",
   "execution_count": 75,
   "metadata": {},
   "outputs": [
    {
     "data": {
      "application/javascript": [
       "IPython.notebook.save_checkpoint();"
      ],
      "text/plain": [
       "<IPython.core.display.Javascript object>"
      ]
     },
     "metadata": {},
     "output_type": "display_data"
    },
    {
     "data": {
      "application/javascript": [
       "IPython.notebook.save_notebook();"
      ],
      "text/plain": [
       "<IPython.core.display.Javascript object>"
      ]
     },
     "metadata": {},
     "output_type": "display_data"
    },
    {
     "name": "stdout",
     "output_type": "stream",
     "text": [
      "Saving notebook... Saved 'project1.ipynb'.\n",
      "Submit... 100% complete\n",
      "Submission successful for user: samihamahin@berkeley.edu\n",
      "URL: https://okpy.org/cal/data8/fa20/project1/submissions/JNJWnv\n",
      "\n"
     ]
    }
   ],
   "source": [
    "_ = ok.submit()"
   ]
  },
  {
   "cell_type": "markdown",
   "metadata": {
    "deletable": false
   },
   "source": [
    "### The World\n",
    "\n",
    "The change observed in Haiti since 1970 can also be observed in many other developing countries: health services improve, life expectancy increases, and child mortality decreases. At the same time, the fertility rate often plummets, and so the population growth rate decreases despite increasing longevity."
   ]
  },
  {
   "cell_type": "markdown",
   "metadata": {
    "deletable": false
   },
   "source": [
    "Run the cell below to generate two overlaid histograms, one for 1960 and one for 2013, that show the distributions of total fertility rates for these two years among all 201 countries in the `fertility` table."
   ]
  },
  {
   "cell_type": "code",
   "execution_count": 76,
   "metadata": {
    "deletable": false
   },
   "outputs": [
    {
     "data": {
      "image/png": "[encoded data removed]",
      "text/plain": [
       "<Figure size 432x288 with 1 Axes>"
      ]
     },
     "metadata": {},
     "output_type": "display_data"
    }
   ],
   "source": [
    "Table().with_columns(\n",
    "    '1960', fertility.where('time', 1960).column(2),\n",
    "    '2013', fertility.where('time', 2013).column(2)\n",
    ").hist(bins=np.arange(0, 10, 0.5), unit='child per woman')\n",
    "_ = plots.xlabel('Children per woman')\n",
    "_ = plots.ylabel('Percent per children per woman')\n",
    "_ = plots.xticks(np.arange(10))"
   ]
  },
  {
   "cell_type": "markdown",
   "metadata": {
    "deletable": false,
    "editable": false
   },
   "source": [
    "**Question 9.** Assign `fertility_statements` to an array of the numbers of each statement below that can be correctly inferred from these histograms.\n",
    "\n",
    "1. About the same number of countries had a fertility rate between 3.5 and 4.5 in both 1960 and 2013.\n",
    "1. In 1960, less than 20% of countries had a fertility rate below 3.\n",
    "1. At least half of countries had a fertility rate between 5 and 8 in 1960.\n",
    "1. In 2013, about 40% of countries had a fertility rate between 1.5 and 2.\n",
    "1. At least half of countries had a fertility rate below 3 in 2013.\n",
    "1. More countries had a fertility rate above 3 in 1960 than in 2013.\n",
    "\n",
    "<!--\n",
    "BEGIN QUESTION\n",
    "name: q1_9\n",
    "-->"
   ]
  },
  {
   "cell_type": "code",
   "execution_count": 77,
   "metadata": {
    "deletable": false
   },
   "outputs": [],
   "source": [
    "fertility_statements = make_array(2, 3, 5, 6)"
   ]
  },
  {
   "cell_type": "code",
   "execution_count": 78,
   "metadata": {
    "deletable": false,
    "editable": false
   },
   "outputs": [
    {
     "name": "stdout",
     "output_type": "stream",
     "text": [
      "~~~~~~~~~~~~~~~~~~~~~~~~~~~~~~~~~~~~~~~~~~~~~~~~~~~~~~~~~~~~~~~~~~~~~\n",
      "Running tests\n",
      "\n",
      "---------------------------------------------------------------------\n",
      "Test summary\n",
      "    Passed: 1\n",
      "    Failed: 0\n",
      "[ooooooooook] 100.0% passed\n",
      "\n"
     ]
    }
   ],
   "source": [
    "ok.grade(\"q1_9\");"
   ]
  },
  {
   "cell_type": "markdown",
   "metadata": {
    "deletable": false,
    "editable": false
   },
   "source": [
    "**Question 10.** Draw a line plot of the world population from 1800 through 2020. The world population is the sum of all the country's populations. \n",
    "\n",
    "<!--\n",
    "BEGIN QUESTION\n",
    "name: q1_10\n",
    "manual: true\n",
    "-->\n",
    "<!-- EXPORT TO PDF -->"
   ]
  },
  {
   "cell_type": "code",
   "execution_count": 79,
   "metadata": {
    "deletable": false,
    "export_pdf": true,
    "manual_grade": true,
    "manual_problem_id": "global_pop_10"
   },
   "outputs": [
    {
     "data": {
      "image/png": "[encoded data removed]",
      "text/plain": [
       "<Figure size 432x288 with 1 Axes>"
      ]
     },
     "metadata": {},
     "output_type": "display_data"
    }
   ],
   "source": [
    "#Fill in code here\n",
    "population.where('time', are.between_or_equal_to(1800, 2021)).drop('geo').group('time', sum).plot('time',\"population_total sum\")"
   ]
  },
  {
   "cell_type": "markdown",
   "metadata": {
    "deletable": false,
    "editable": false
   },
   "source": [
    "**Question 11.** Create a function `stats_for_year` that takes a `year` and returns a table of statistics. The table it returns should have four columns: `geo`, `population_total`, `children_per_woman_total_fertility`, and `child_mortality_under_5_per_1000_born`. Each row should contain one Alpha-3 country code and three statistics: population, fertility rate, and child mortality for that `year` from the `population`, `fertility` and `child_mortality` tables. Only include rows for which all three statistics are available for the country and year.\n",
    "\n",
    "In addition, restrict the result to country codes that appears in `big_50`, an array of the 50 most populous countries in 2020. This restriction will speed up computations later in the project.\n",
    "\n",
    "After you write `stats_for_year`, try calling `stats_for_year` on any year between 1960 and 2020. Try to understand the output of stats_for_year.\n",
    "\n",
    "*Hint*: The tests for this question are quite comprehensive, so if you pass the tests, your function is probably correct. However, without calling your function yourself and looking at the output, it will be very difficult to understand any problems you have, so try your best to write the function correctly and check that it works before you rely on the `ok` tests to confirm your work.\n",
    "\n",
    "<!--\n",
    "BEGIN QUESTION\n",
    "name: q1_11\n",
    "manual: false\n",
    "-->"
   ]
  },
  {
   "cell_type": "code",
   "execution_count": 80,
   "metadata": {
    "deletable": false
   },
   "outputs": [
    {
     "data": {
      "text/html": [
       "<table border=\"1\" class=\"dataframe\">\n",
       "    <thead>\n",
       "        <tr>\n",
       "            <th>geo</th> <th>population_total</th> <th>children_per_woman_total_fertility</th> <th>child_mortality_under_5_per_1000_born</th>\n",
       "        </tr>\n",
       "    </thead>\n",
       "    <tbody>\n",
       "        <tr>\n",
       "            <td>afg </td> <td>37171922        </td> <td>4.33                              </td> <td>62.28                                </td>\n",
       "        </tr>\n",
       "        <tr>\n",
       "            <td>ago </td> <td>30809787        </td> <td>5.55                              </td> <td>77.16                                </td>\n",
       "        </tr>\n",
       "        <tr>\n",
       "            <td>arg </td> <td>44361150        </td> <td>2.26                              </td> <td>9.94                                 </td>\n",
       "        </tr>\n",
       "        <tr>\n",
       "            <td>bgd </td> <td>161376713       </td> <td>2.05                              </td> <td>30.16                                </td>\n",
       "        </tr>\n",
       "        <tr>\n",
       "            <td>bra </td> <td>209469320       </td> <td>1.7                               </td> <td>14.35                                </td>\n",
       "        </tr>\n",
       "        <tr>\n",
       "            <td>can </td> <td>37074558        </td> <td>1.56                              </td> <td>4.97                                 </td>\n",
       "        </tr>\n",
       "        <tr>\n",
       "            <td>chn </td> <td>1427647789      </td> <td>1.64                              </td> <td>8.6                                  </td>\n",
       "        </tr>\n",
       "        <tr>\n",
       "            <td>cod </td> <td>84068092        </td> <td>5.92                              </td> <td>88.1                                 </td>\n",
       "        </tr>\n",
       "        <tr>\n",
       "            <td>col </td> <td>49661056        </td> <td>1.82                              </td> <td>14.21                                </td>\n",
       "        </tr>\n",
       "        <tr>\n",
       "            <td>deu </td> <td>83124413        </td> <td>1.48                              </td> <td>3.66                                 </td>\n",
       "        </tr>\n",
       "    </tbody>\n",
       "</table>\n",
       "<p>... (40 rows omitted)</p>"
      ],
      "text/plain": [
       "geo  | population_total | children_per_woman_total_fertility | child_mortality_under_5_per_1000_born\n",
       "afg  | 37171922         | 4.33                               | 62.28\n",
       "ago  | 30809787         | 5.55                               | 77.16\n",
       "arg  | 44361150         | 2.26                               | 9.94\n",
       "bgd  | 161376713        | 2.05                               | 30.16\n",
       "bra  | 209469320        | 1.7                                | 14.35\n",
       "can  | 37074558         | 1.56                               | 4.97\n",
       "chn  | 1427647789       | 1.64                               | 8.6\n",
       "cod  | 84068092         | 5.92                               | 88.1\n",
       "col  | 49661056         | 1.82                               | 14.21\n",
       "deu  | 83124413         | 1.48                               | 3.66\n",
       "... (40 rows omitted)"
      ]
     },
     "execution_count": 80,
     "metadata": {},
     "output_type": "execute_result"
    }
   ],
   "source": [
    "# We first create a population table that only includes the \n",
    "# 50 countries with the largest 2010 populations. We focus on \n",
    "# these 50 countries only so that plotting later will run faster.\n",
    "big_50 = population.where('time', are.equal_to(2020)).sort(\"population_total\", descending=True).take(np.arange(50)).column('geo')\n",
    "population_of_big_50 = population.where('time', are.above(1959)).where('geo', are.contained_in(big_50))\n",
    "\n",
    "def stats_for_year(year):\n",
    "    \"\"\"Return a table of the stats for each country that year.\"\"\"\n",
    "    p = population_of_big_50.where('time', are.equal_to(year)).drop('time')\n",
    "    f = fertility.where('time', are.equal_to(year)).drop('time')\n",
    "    c = child_mortality.where('time', are.equal_to(year)).drop('time')\n",
    "    return p.join('geo', f).join('geo', c)\n",
    "\n",
    "\n",
    "stats_for_year(2018)"
   ]
  },
  {
   "cell_type": "code",
   "execution_count": 81,
   "metadata": {
    "deletable": false,
    "editable": false
   },
   "outputs": [
    {
     "name": "stdout",
     "output_type": "stream",
     "text": [
      "~~~~~~~~~~~~~~~~~~~~~~~~~~~~~~~~~~~~~~~~~~~~~~~~~~~~~~~~~~~~~~~~~~~~~\n",
      "Running tests\n",
      "\n",
      "---------------------------------------------------------------------\n",
      "Test summary\n",
      "    Passed: 4\n",
      "    Failed: 0\n",
      "[ooooooooook] 100.0% passed\n",
      "\n"
     ]
    }
   ],
   "source": [
    "ok.grade(\"q1_11\");"
   ]
  },
  {
   "cell_type": "markdown",
   "metadata": {
    "deletable": false,
    "editable": false
   },
   "source": [
    "**Question 12.** Create a table called `pop_by_decade` with two columns called `decade` and `population`. It has a row for each `year` since 1960 that starts a decade. The `population` column contains the total population of all countries included in the result of `stats_for_year(year)` for the first `year` of the decade. For example, 1960 is the first year of the 1960's decade. You should see that these countries contain most of the world's population.\n",
    "\n",
    "*Hint:* One approach is to define a function `pop_for_year` that computes this total population, then `apply` it to the `decade` column.  The `stats_for_year` function from the previous question may be useful here.\n",
    "\n",
    "This first test is just a sanity check for your helper function if you choose to use it. You will not lose points for not implementing the function `pop_for_year`.\n",
    "\n",
    "**Note:** The cell where you will generate the `pop_by_decade` table is below the cell where you can choose to define the helper function `pop_for_year`. You should define your `pop_by_decade` table in the cell that starts with the table `decades` being defined. \n",
    "\n",
    "<!--\n",
    "BEGIN QUESTION\n",
    "name: q1_12_0\n",
    "manual: false\n",
    "points: 0\n",
    "-->"
   ]
  },
  {
   "cell_type": "code",
   "execution_count": 82,
   "metadata": {},
   "outputs": [],
   "source": [
    "def pop_for_year(year):\n",
    "    return sum(stats_for_year(year).column('population_total'))"
   ]
  },
  {
   "cell_type": "code",
   "execution_count": 83,
   "metadata": {
    "deletable": false,
    "editable": false
   },
   "outputs": [
    {
     "name": "stdout",
     "output_type": "stream",
     "text": [
      "~~~~~~~~~~~~~~~~~~~~~~~~~~~~~~~~~~~~~~~~~~~~~~~~~~~~~~~~~~~~~~~~~~~~~\n",
      "Running tests\n",
      "\n",
      "---------------------------------------------------------------------\n",
      "Test summary\n",
      "    Passed: 4\n",
      "    Failed: 0\n",
      "[ooooooooook] 100.0% passed\n",
      "\n"
     ]
    }
   ],
   "source": [
    "ok.grade(\"q1_12_0\");"
   ]
  },
  {
   "cell_type": "markdown",
   "metadata": {
    "deletable": false,
    "editable": false
   },
   "source": [
    "Now that you've defined your helper function (if you've chosen to do so), define the `pop_by_decade` table.\n",
    "\n",
    "<!--\n",
    "BEGIN QUESTION\n",
    "name: q1_12\n",
    "manual: false\n",
    "-->"
   ]
  },
  {
   "cell_type": "code",
   "execution_count": 84,
   "metadata": {
    "deletable": false
   },
   "outputs": [
    {
     "data": {
      "text/html": [
       "<table border=\"1\" class=\"dataframe\">\n",
       "    <thead>\n",
       "        <tr>\n",
       "            <th>decade</th> <th>population</th>\n",
       "        </tr>\n",
       "    </thead>\n",
       "    <tbody>\n",
       "        <tr>\n",
       "            <td>1960  </td> <td>2,635,123,897</td>\n",
       "        </tr>\n",
       "        <tr>\n",
       "            <td>1970  </td> <td>3,221,457,416</td>\n",
       "        </tr>\n",
       "        <tr>\n",
       "            <td>1980  </td> <td>3,890,044,418</td>\n",
       "        </tr>\n",
       "        <tr>\n",
       "            <td>1990  </td> <td>4,656,339,803</td>\n",
       "        </tr>\n",
       "        <tr>\n",
       "            <td>2000  </td> <td>5,377,062,169</td>\n",
       "        </tr>\n",
       "        <tr>\n",
       "            <td>2010  </td> <td>6,064,674,132</td>\n",
       "        </tr>\n",
       "        <tr>\n",
       "            <td>2020  </td> <td>6,765,161,289</td>\n",
       "        </tr>\n",
       "    </tbody>\n",
       "</table>"
      ],
      "text/plain": [
       "decade | population\n",
       "1960   | 2,635,123,897\n",
       "1970   | 3,221,457,416\n",
       "1980   | 3,890,044,418\n",
       "1990   | 4,656,339,803\n",
       "2000   | 5,377,062,169\n",
       "2010   | 6,064,674,132\n",
       "2020   | 6,765,161,289"
      ]
     },
     "execution_count": 84,
     "metadata": {},
     "output_type": "execute_result"
    }
   ],
   "source": [
    "decades = Table().with_column('decade', np.arange(1960, 2021, 10))\n",
    "\n",
    "pop_by_decade = decades.with_column('population', decades_since_1960.apply(pop_for_year, 'year'))\n",
    "pop_by_decade.set_format(1, NumberFormatter)"
   ]
  },
  {
   "cell_type": "code",
   "execution_count": 85,
   "metadata": {
    "deletable": false,
    "editable": false
   },
   "outputs": [
    {
     "name": "stdout",
     "output_type": "stream",
     "text": [
      "~~~~~~~~~~~~~~~~~~~~~~~~~~~~~~~~~~~~~~~~~~~~~~~~~~~~~~~~~~~~~~~~~~~~~\n",
      "Running tests\n",
      "\n",
      "---------------------------------------------------------------------\n",
      "Test summary\n",
      "    Passed: 2\n",
      "    Failed: 0\n",
      "[ooooooooook] 100.0% passed\n",
      "\n"
     ]
    }
   ],
   "source": [
    "ok.grade(\"q1_12\");"
   ]
  },
  {
   "cell_type": "markdown",
   "metadata": {
    "deletable": false,
    "editable": false
   },
   "source": [
    "The `countries` table describes various characteristics of countries. The `country` column contains the same codes as the `geo` column in each of the other data tables (`population`, `fertility`, and `child_mortality`). The `world_6region` column classifies each country into a region of the world. Run the cell below to inspect the data."
   ]
  },
  {
   "cell_type": "code",
   "execution_count": 86,
   "metadata": {},
   "outputs": [
    {
     "data": {
      "text/html": [
       "<table border=\"1\" class=\"dataframe\">\n",
       "    <thead>\n",
       "        <tr>\n",
       "            <th>country</th> <th>name</th> <th>world_6region</th>\n",
       "        </tr>\n",
       "    </thead>\n",
       "    <tbody>\n",
       "        <tr>\n",
       "            <td>afg    </td> <td>Afghanistan         </td> <td>south_asia              </td>\n",
       "        </tr>\n",
       "        <tr>\n",
       "            <td>ago    </td> <td>Angola              </td> <td>sub_saharan_africa      </td>\n",
       "        </tr>\n",
       "        <tr>\n",
       "            <td>alb    </td> <td>Albania             </td> <td>europe_central_asia     </td>\n",
       "        </tr>\n",
       "        <tr>\n",
       "            <td>and    </td> <td>Andorra             </td> <td>europe_central_asia     </td>\n",
       "        </tr>\n",
       "        <tr>\n",
       "            <td>are    </td> <td>United Arab Emirates</td> <td>middle_east_north_africa</td>\n",
       "        </tr>\n",
       "        <tr>\n",
       "            <td>arg    </td> <td>Argentina           </td> <td>america                 </td>\n",
       "        </tr>\n",
       "        <tr>\n",
       "            <td>arm    </td> <td>Armenia             </td> <td>europe_central_asia     </td>\n",
       "        </tr>\n",
       "        <tr>\n",
       "            <td>atg    </td> <td>Antigua and Barbuda </td> <td>america                 </td>\n",
       "        </tr>\n",
       "        <tr>\n",
       "            <td>aus    </td> <td>Australia           </td> <td>east_asia_pacific       </td>\n",
       "        </tr>\n",
       "        <tr>\n",
       "            <td>aut    </td> <td>Austria             </td> <td>europe_central_asia     </td>\n",
       "        </tr>\n",
       "    </tbody>\n",
       "</table>\n",
       "<p>... (187 rows omitted)</p>"
      ],
      "text/plain": [
       "country | name                 | world_6region\n",
       "afg     | Afghanistan          | south_asia\n",
       "ago     | Angola               | sub_saharan_africa\n",
       "alb     | Albania              | europe_central_asia\n",
       "and     | Andorra              | europe_central_asia\n",
       "are     | United Arab Emirates | middle_east_north_africa\n",
       "arg     | Argentina            | america\n",
       "arm     | Armenia              | europe_central_asia\n",
       "atg     | Antigua and Barbuda  | america\n",
       "aus     | Australia            | east_asia_pacific\n",
       "aut     | Austria              | europe_central_asia\n",
       "... (187 rows omitted)"
      ]
     },
     "execution_count": 86,
     "metadata": {},
     "output_type": "execute_result"
    }
   ],
   "source": [
    "countries = Table.read_table('countries.csv').where('country', are.contained_in(population.group('geo').column('geo')))\n",
    "countries.select('country', 'name', 'world_6region')"
   ]
  },
  {
   "cell_type": "markdown",
   "metadata": {
    "deletable": false,
    "editable": false
   },
   "source": [
    "**Question 13.** Create a table called `region_counts` that has two columns, `region` and `count`. It should contain two columns: a region column and a count column that contains the number of countries in each region that appear in the result of `stats_for_year(2020)`. For example, one row would have `south_asia` as its `world_6region` value and an integer as its `count` value: the number of large South Asian countries for which we have population, fertility, and child mortality numbers from 2020.\n",
    "\n",
    "<!--\n",
    "BEGIN QUESTION\n",
    "name: q1_13\n",
    "-->"
   ]
  },
  {
   "cell_type": "code",
   "execution_count": 95,
   "metadata": {
    "deletable": false
   },
   "outputs": [
    {
     "data": {
      "text/html": [
       "<table border=\"1\" class=\"dataframe\">\n",
       "    <thead>\n",
       "        <tr>\n",
       "            <th>region</th> <th>count</th>\n",
       "        </tr>\n",
       "    </thead>\n",
       "    <tbody>\n",
       "        <tr>\n",
       "            <td>america                 </td> <td>8    </td>\n",
       "        </tr>\n",
       "        <tr>\n",
       "            <td>east_asia_pacific       </td> <td>9    </td>\n",
       "        </tr>\n",
       "        <tr>\n",
       "            <td>europe_central_asia     </td> <td>10   </td>\n",
       "        </tr>\n",
       "        <tr>\n",
       "            <td>middle_east_north_africa</td> <td>7    </td>\n",
       "        </tr>\n",
       "        <tr>\n",
       "            <td>south_asia              </td> <td>5    </td>\n",
       "        </tr>\n",
       "        <tr>\n",
       "            <td>sub_saharan_africa      </td> <td>11   </td>\n",
       "        </tr>\n",
       "    </tbody>\n",
       "</table>"
      ],
      "text/plain": [
       "region                   | count\n",
       "america                  | 8\n",
       "east_asia_pacific        | 9\n",
       "europe_central_asia      | 10\n",
       "middle_east_north_africa | 7\n",
       "south_asia               | 5\n",
       "sub_saharan_africa       | 11"
      ]
     },
     "execution_count": 95,
     "metadata": {},
     "output_type": "execute_result"
    }
   ],
   "source": [
    "region_counts = stats_for_year(2020).join('geo', countries, 'country').group('world_6region').relabel('world_6region', 'region')\n",
    "#countries.group('world_6region').relabel('world_6region', 'region')\n",
    "region_counts"
   ]
  },
  {
   "cell_type": "code",
   "execution_count": 96,
   "metadata": {
    "deletable": false,
    "editable": false
   },
   "outputs": [
    {
     "name": "stdout",
     "output_type": "stream",
     "text": [
      "~~~~~~~~~~~~~~~~~~~~~~~~~~~~~~~~~~~~~~~~~~~~~~~~~~~~~~~~~~~~~~~~~~~~~\n",
      "Running tests\n",
      "\n",
      "---------------------------------------------------------------------\n",
      "Test summary\n",
      "    Passed: 2\n",
      "    Failed: 0\n",
      "[ooooooooook] 100.0% passed\n",
      "\n"
     ]
    }
   ],
   "source": [
    "ok.grade(\"q1_13\");"
   ]
  },
  {
   "cell_type": "markdown",
   "metadata": {
    "deletable": false,
    "editable": false
   },
   "source": [
    "The following scatter diagram compares total fertility rate and child mortality rate for each country in 2020. The area of each dot represents the population of the country, and the color represents its region of the world. Run the cell. Do you think you can identify any of the dots?"
   ]
  },
  {
   "cell_type": "code",
   "execution_count": 97,
   "metadata": {
    "deletable": false
   },
   "outputs": [
    {
     "data": {
      "image/png": "[encoded data removed]",
      "text/plain": [
       "<Figure size 360x360 with 1 Axes>"
      ]
     },
     "metadata": {},
     "output_type": "display_data"
    }
   ],
   "source": [
    "from functools import lru_cache as cache\n",
    "\n",
    "# This cache annotation makes sure that if the same year\n",
    "# is passed as an argument twice, the work of computing\n",
    "# the result is only carried out once.\n",
    "@cache(None)\n",
    "def stats_relabeled(year):\n",
    "    \"\"\"Relabeled and cached version of stats_for_year.\"\"\"\n",
    "    return stats_for_year(year).relabel(2, 'Children per woman').relabel(3, 'Child deaths per 1000 born')\n",
    "\n",
    "def fertility_vs_child_mortality(year):\n",
    "    \"\"\"Draw a color scatter diagram comparing child mortality and fertility.\"\"\"\n",
    "    with_region = stats_relabeled(year).join('geo', countries.select('country', 'world_6region'), 'country')\n",
    "    with_region.scatter(2, 3, sizes=1, group=4, s=500)\n",
    "    plots.xlim(0,6)\n",
    "    plots.ylim(-25, 150)\n",
    "    plots.title(year)\n",
    "\n",
    "fertility_vs_child_mortality(2020)"
   ]
  },
  {
   "cell_type": "markdown",
   "metadata": {
    "deletable": false,
    "editable": false
   },
   "source": [
    "**Question 14.** Assign `scatter_statements` to an array of the numbers of each statement below that can be inferred from this scatter diagram for 2020. \n",
    "1. As a whole, the `europe_central_asia` region had the lowest child mortality rate.\n",
    "1. The lowest child mortality rate of any country was from an `east_asia_pacific` country.\n",
    "1. Most countries had a fertility rate above 5.\n",
    "1. There was an association between child mortality and fertility.\n",
    "1. The two largest countries by population also had the two highest child mortality rate.\n",
    "\n",
    "<!--\n",
    "BEGIN QUESTION\n",
    "name: q1_14\n",
    "-->"
   ]
  },
  {
   "cell_type": "code",
   "execution_count": 100,
   "metadata": {
    "deletable": false
   },
   "outputs": [],
   "source": [
    "scatter_statements = make_array(1, 2, 4)"
   ]
  },
  {
   "cell_type": "code",
   "execution_count": 101,
   "metadata": {
    "deletable": false,
    "editable": false
   },
   "outputs": [
    {
     "name": "stdout",
     "output_type": "stream",
     "text": [
      "~~~~~~~~~~~~~~~~~~~~~~~~~~~~~~~~~~~~~~~~~~~~~~~~~~~~~~~~~~~~~~~~~~~~~\n",
      "Running tests\n",
      "\n",
      "---------------------------------------------------------------------\n",
      "Test summary\n",
      "    Passed: 1\n",
      "    Failed: 0\n",
      "[ooooooooook] 100.0% passed\n",
      "\n"
     ]
    }
   ],
   "source": [
    "ok.grade(\"q1_14\");"
   ]
  },
  {
   "cell_type": "markdown",
   "metadata": {
    "deletable": false
   },
   "source": [
    "The result of the cell below is interactive. Drag the slider to the right to see how countries have changed over time. You'll find that the great divide between so-called \"Western\" and \"developing\" countries that existed in the 1960's has nearly disappeared. This shift in fertility rates is the reason that the global population is expected to grow more slowly in the 21st century than it did in the 19th and 20th centuries.\n",
    "\n",
    "**Note:** Don't worry if a red warning pops up when running the cell below. You'll still be able to run the cell!"
   ]
  },
  {
   "cell_type": "code",
   "execution_count": 103,
   "metadata": {
    "deletable": false,
    "scrolled": false
   },
   "outputs": [
    {
     "data": {
      "application/vnd.jupyter.widget-view+json": {
       "model_id": "a9cd945206ae4e5cbd09fa0b49cce468",
       "version_major": 2,
       "version_minor": 0
      },
      "text/plain": [
       "interactive(children=(IntSlider(value=1960, description='year', max=2015, min=1960), Output()), _dom_classes=(…"
      ]
     },
     "metadata": {},
     "output_type": "display_data"
    }
   ],
   "source": [
    "import ipywidgets as widgets\n",
    "\n",
    "# This part takes a few minutes to run because it \n",
    "# computes 55 tables in advance: one for each year.\n",
    "Table().with_column('Year', np.arange(1960, 2016)).apply(stats_relabeled, 'Year')\n",
    "\n",
    "_ = widgets.interact(fertility_vs_child_mortality, \n",
    "                     year=widgets.IntSlider(min=1960, max=2015, value=1960))"
   ]
  },
  {
   "cell_type": "markdown",
   "metadata": {
    "deletable": false,
    "editable": false
   },
   "source": [
    "Now is a great time to take a break and watch the same data presented by [Hans Rosling in a 2010 TEDx talk](https://www.gapminder.org/videos/reducing-child-mortality-a-moral-and-environmental-imperative) with smoother animation and witty commentary."
   ]
  },
  {
   "cell_type": "markdown",
   "metadata": {
    "deletable": false,
    "editable": false
   },
   "source": [
    "## 2. Global Poverty\n"
   ]
  },
  {
   "cell_type": "markdown",
   "metadata": {
    "deletable": false,
    "editable": false
   },
   "source": [
    "In 1800, 85% of the world's 1 billion people lived in *extreme poverty*, defined by the United Nations as \"a condition characterized by severe deprivation of basic human needs, including food, safe drinking water, sanitation facilities, health, shelter, education and information.\" A common measure of extreme poverty is a person living on less than \\$1.25 per day.\n",
    "\n",
    "In 2018, the proportion of people living in extreme poverty was estimated to be 8%. Although the world rate of extreme poverty has declined consistently for hundreds of years, the number of people living in extreme poverty is still over 600 million. The United Nations recently adopted an [ambitious goal](http://www.un.org/sustainabledevelopment/poverty/): \"By 2030, eradicate extreme poverty for all people everywhere.\"\n",
    "In this section, we will examine extreme poverty trends around the world."
   ]
  },
  {
   "cell_type": "markdown",
   "metadata": {
    "deletable": false,
    "editable": false
   },
   "source": [
    "First, load the population and poverty rate by country and year and the country descriptions. While the `population` table has values for every recent year for many countries, the `poverty` table only includes certain years for each country in which a measurement of the rate of extreme poverty was available."
   ]
  },
  {
   "cell_type": "code",
   "execution_count": 105,
   "metadata": {},
   "outputs": [
    {
     "data": {
      "text/html": [
       "<table border=\"1\" class=\"dataframe\">\n",
       "    <thead>\n",
       "        <tr>\n",
       "            <th>geo</th> <th>time</th> <th>extreme_poverty_percent_people_below_125_a_day</th>\n",
       "        </tr>\n",
       "    </thead>\n",
       "    <tbody>\n",
       "        <tr>\n",
       "            <td>alb </td> <td>1996</td> <td>0.2                                           </td>\n",
       "        </tr>\n",
       "        <tr>\n",
       "            <td>alb </td> <td>2002</td> <td>0.73                                          </td>\n",
       "        </tr>\n",
       "        <tr>\n",
       "            <td>alb </td> <td>2004</td> <td>0.53                                          </td>\n",
       "        </tr>\n",
       "    </tbody>\n",
       "</table>\n",
       "<p>... (1096 rows omitted)</p>"
      ],
      "text/plain": [
       "<IPython.core.display.HTML object>"
      ]
     },
     "metadata": {},
     "output_type": "display_data"
    }
   ],
   "source": [
    "population = Table.read_table('population.csv')\n",
    "countries = Table.read_table('countries.csv').where('country', are.contained_in(population.group('geo').column('geo')))\n",
    "poverty = Table.read_table('poverty.csv')\n",
    "poverty.show(3)"
   ]
  },
  {
   "cell_type": "markdown",
   "metadata": {
    "deletable": false,
    "editable": false
   },
   "source": [
    "**Question 1.** Assign `latest_poverty` to a three-column table with one row for each country that appears in the `poverty` table. The first column should contain the 3-letter code for the country. The second column should contain the most recent year for which an extreme poverty rate is available for the country. The third column should contain the poverty rate in that year. **Do not change the last line, so that the labels of your table are set correctly.**\n",
    "\n",
    "*Hint*: think about how ```group``` works: it does a sequential search of the table (from top to bottom) and collects values in the array in the order in which they appear, and then applies a function to that array. The `first` function may be helpful, but you are not required to use it.\n",
    "\n",
    "<!--\n",
    "BEGIN QUESTION\n",
    "name: q2_1\n",
    "-->"
   ]
  },
  {
   "cell_type": "code",
   "execution_count": 112,
   "metadata": {
    "deletable": false
   },
   "outputs": [
    {
     "data": {
      "text/html": [
       "<table border=\"1\" class=\"dataframe\">\n",
       "    <thead>\n",
       "        <tr>\n",
       "            <th>geo</th> <th>time</th> <th>poverty_percent</th>\n",
       "        </tr>\n",
       "    </thead>\n",
       "    <tbody>\n",
       "        <tr>\n",
       "            <td>ago </td> <td>2009</td> <td>43.37          </td>\n",
       "        </tr>\n",
       "        <tr>\n",
       "            <td>alb </td> <td>2012</td> <td>0.46           </td>\n",
       "        </tr>\n",
       "        <tr>\n",
       "            <td>arg </td> <td>2011</td> <td>1.41           </td>\n",
       "        </tr>\n",
       "        <tr>\n",
       "            <td>arm </td> <td>2012</td> <td>1.75           </td>\n",
       "        </tr>\n",
       "        <tr>\n",
       "            <td>aus </td> <td>2003</td> <td>1.36           </td>\n",
       "        </tr>\n",
       "        <tr>\n",
       "            <td>aut </td> <td>2004</td> <td>0.34           </td>\n",
       "        </tr>\n",
       "        <tr>\n",
       "            <td>aze </td> <td>2008</td> <td>0.31           </td>\n",
       "        </tr>\n",
       "        <tr>\n",
       "            <td>bdi </td> <td>2006</td> <td>81.32          </td>\n",
       "        </tr>\n",
       "        <tr>\n",
       "            <td>bel </td> <td>2000</td> <td>0.5            </td>\n",
       "        </tr>\n",
       "        <tr>\n",
       "            <td>ben </td> <td>2012</td> <td>51.61          </td>\n",
       "        </tr>\n",
       "    </tbody>\n",
       "</table>\n",
       "<p>... (135 rows omitted)</p>"
      ],
      "text/plain": [
       "geo  | time | poverty_percent\n",
       "ago  | 2009 | 43.37\n",
       "alb  | 2012 | 0.46\n",
       "arg  | 2011 | 1.41\n",
       "arm  | 2012 | 1.75\n",
       "aus  | 2003 | 1.36\n",
       "aut  | 2004 | 0.34\n",
       "aze  | 2008 | 0.31\n",
       "bdi  | 2006 | 81.32\n",
       "bel  | 2000 | 0.5\n",
       "ben  | 2012 | 51.61\n",
       "... (135 rows omitted)"
      ]
     },
     "execution_count": 112,
     "metadata": {},
     "output_type": "execute_result"
    }
   ],
   "source": [
    "def first(values):\n",
    "    return values.item(0)\n",
    "\n",
    "latest_poverty = poverty.sort('time', descending= True).group('geo', first)\n",
    "latest_poverty = latest_poverty.relabeled(0, 'geo').relabeled(1, 'time').relabeled(2, 'poverty_percent') # You should *not* change this line.\n",
    "latest_poverty"
   ]
  },
  {
   "cell_type": "code",
   "execution_count": 113,
   "metadata": {
    "deletable": false,
    "editable": false
   },
   "outputs": [
    {
     "name": "stdout",
     "output_type": "stream",
     "text": [
      "~~~~~~~~~~~~~~~~~~~~~~~~~~~~~~~~~~~~~~~~~~~~~~~~~~~~~~~~~~~~~~~~~~~~~\n",
      "Running tests\n",
      "\n",
      "---------------------------------------------------------------------\n",
      "Test summary\n",
      "    Passed: 2\n",
      "    Failed: 0\n",
      "[ooooooooook] 100.0% passed\n",
      "\n"
     ]
    }
   ],
   "source": [
    "ok.grade(\"q2_1\");"
   ]
  },
  {
   "cell_type": "markdown",
   "metadata": {
    "deletable": false,
    "editable": false
   },
   "source": [
    "**Question 2.** Using both `latest_poverty` and `population`, create a four-column table called `recent_poverty_total` with one row for each country in `latest_poverty`. The four columns should have the following labels and contents:\n",
    "1. `geo` contains the 3-letter country code,\n",
    "1. `poverty_percent` contains the most recent poverty percent,\n",
    "1. `population_total` contains the population of the country in 2010,\n",
    "1. `poverty_total` contains the number of people in poverty **rounded to the nearest integer**, based on the 2010 population and most recent poverty rate.\n",
    "\n",
    "<!--\n",
    "BEGIN QUESTION\n",
    "name: q2_2\n",
    "-->"
   ]
  },
  {
   "cell_type": "code",
   "execution_count": 133,
   "metadata": {
    "deletable": false
   },
   "outputs": [
    {
     "data": {
      "text/html": [
       "<table border=\"1\" class=\"dataframe\">\n",
       "    <thead>\n",
       "        <tr>\n",
       "            <th>geo</th> <th>poverty_percent</th> <th>population_total</th> <th>poverty_total</th>\n",
       "        </tr>\n",
       "    </thead>\n",
       "    <tbody>\n",
       "        <tr>\n",
       "            <td>ago </td> <td>43.37          </td> <td>23356247        </td> <td>1.01296e+07  </td>\n",
       "        </tr>\n",
       "        <tr>\n",
       "            <td>alb </td> <td>0.46           </td> <td>2948029         </td> <td>13561        </td>\n",
       "        </tr>\n",
       "        <tr>\n",
       "            <td>arg </td> <td>1.41           </td> <td>40895751        </td> <td>576630       </td>\n",
       "        </tr>\n",
       "        <tr>\n",
       "            <td>arm </td> <td>1.75           </td> <td>2877314         </td> <td>50353        </td>\n",
       "        </tr>\n",
       "        <tr>\n",
       "            <td>aus </td> <td>1.36           </td> <td>22154687        </td> <td>301304       </td>\n",
       "        </tr>\n",
       "        <tr>\n",
       "            <td>aut </td> <td>0.34           </td> <td>8409945         </td> <td>28594        </td>\n",
       "        </tr>\n",
       "        <tr>\n",
       "            <td>aze </td> <td>0.31           </td> <td>9032465         </td> <td>28001        </td>\n",
       "        </tr>\n",
       "        <tr>\n",
       "            <td>bdi </td> <td>81.32          </td> <td>8675606         </td> <td>7.055e+06    </td>\n",
       "        </tr>\n",
       "        <tr>\n",
       "            <td>bel </td> <td>0.5            </td> <td>10938735        </td> <td>54694        </td>\n",
       "        </tr>\n",
       "        <tr>\n",
       "            <td>ben </td> <td>51.61          </td> <td>9199254         </td> <td>4.74774e+06  </td>\n",
       "        </tr>\n",
       "    </tbody>\n",
       "</table>\n",
       "<p>... (135 rows omitted)</p>"
      ],
      "text/plain": [
       "geo  | poverty_percent | population_total | poverty_total\n",
       "ago  | 43.37           | 23356247         | 1.01296e+07\n",
       "alb  | 0.46            | 2948029          | 13561\n",
       "arg  | 1.41            | 40895751         | 576630\n",
       "arm  | 1.75            | 2877314          | 50353\n",
       "aus  | 1.36            | 22154687         | 301304\n",
       "aut  | 0.34            | 8409945          | 28594\n",
       "aze  | 0.31            | 9032465          | 28001\n",
       "bdi  | 81.32           | 8675606          | 7.055e+06\n",
       "bel  | 0.5             | 10938735         | 54694\n",
       "ben  | 51.61           | 9199254          | 4.74774e+06\n",
       "... (135 rows omitted)"
      ]
     },
     "execution_count": 133,
     "metadata": {},
     "output_type": "execute_result"
    }
   ],
   "source": [
    "poverty_and_pop = population.where('time', 2010)\n",
    "tbl = poverty_and_pop.join('geo', latest_poverty).select('geo', 'poverty_percent', 'population_total')\n",
    "recent_poverty_total = tbl.with_column('poverty_total', np.round(tbl.column('population_total')*(tbl.column('poverty_percent')/100)))\n",
    "recent_poverty_total"
   ]
  },
  {
   "cell_type": "code",
   "execution_count": 134,
   "metadata": {
    "deletable": false,
    "editable": false
   },
   "outputs": [
    {
     "name": "stdout",
     "output_type": "stream",
     "text": [
      "~~~~~~~~~~~~~~~~~~~~~~~~~~~~~~~~~~~~~~~~~~~~~~~~~~~~~~~~~~~~~~~~~~~~~\n",
      "Running tests\n",
      "\n",
      "---------------------------------------------------------------------\n",
      "Test summary\n",
      "    Passed: 3\n",
      "    Failed: 0\n",
      "[ooooooooook] 100.0% passed\n",
      "\n"
     ]
    }
   ],
   "source": [
    "ok.grade(\"q2_2\");"
   ]
  },
  {
   "cell_type": "markdown",
   "metadata": {
    "deletable": false,
    "editable": false
   },
   "source": [
    "**Question 3.** Assign the name `poverty_percent` to the known percentage of the world’s 2010 population that were living in extreme poverty. Assume that the `poverty_total` numbers in the `recent_poverty_total` table describe **all** people in 2010 living in extreme poverty. You should find a number that is above the 2018 global estimate of 8%, since many country-specific poverty rates are older than 2018.\n",
    "\n",
    "*Hint*: The sum of the `population_total` column in the `recent_poverty_total` table is not the world population, because only a subset of the world's countries are included in the `recent_poverty_total` table (only some countries have known poverty rates). Use the `population` table to compute the world's 2010 total population..\n",
    "\n",
    "<!--\n",
    "BEGIN QUESTION\n",
    "name: q2_3\n",
    "-->"
   ]
  },
  {
   "cell_type": "code",
   "execution_count": 139,
   "metadata": {
    "deletable": false
   },
   "outputs": [
    {
     "data": {
      "text/plain": [
       "14.248865303997139"
      ]
     },
     "execution_count": 139,
     "metadata": {},
     "output_type": "execute_result"
    }
   ],
   "source": [
    "poverty_percent = (sum(recent_poverty_total.column('poverty_total')) / sum(population.where('time', 2010).column('population_total'))) * 100\n",
    "poverty_percent"
   ]
  },
  {
   "cell_type": "code",
   "execution_count": 140,
   "metadata": {
    "deletable": false,
    "editable": false
   },
   "outputs": [
    {
     "name": "stdout",
     "output_type": "stream",
     "text": [
      "~~~~~~~~~~~~~~~~~~~~~~~~~~~~~~~~~~~~~~~~~~~~~~~~~~~~~~~~~~~~~~~~~~~~~\n",
      "Running tests\n",
      "\n",
      "---------------------------------------------------------------------\n",
      "Test summary\n",
      "    Passed: 1\n",
      "    Failed: 0\n",
      "[ooooooooook] 100.0% passed\n",
      "\n"
     ]
    }
   ],
   "source": [
    "ok.grade(\"q2_3\");"
   ]
  },
  {
   "cell_type": "markdown",
   "metadata": {
    "deletable": false,
    "editable": false
   },
   "source": [
    "The `countries` table includes not only the name and region of countries, but also their positions on the globe."
   ]
  },
  {
   "cell_type": "code",
   "execution_count": 141,
   "metadata": {
    "deletable": false,
    "editable": false
   },
   "outputs": [
    {
     "data": {
      "text/html": [
       "<table border=\"1\" class=\"dataframe\">\n",
       "    <thead>\n",
       "        <tr>\n",
       "            <th>country</th> <th>name</th> <th>world_4region</th> <th>latitude</th> <th>longitude</th>\n",
       "        </tr>\n",
       "    </thead>\n",
       "    <tbody>\n",
       "        <tr>\n",
       "            <td>afg    </td> <td>Afghanistan         </td> <td>asia         </td> <td>33      </td> <td>66       </td>\n",
       "        </tr>\n",
       "        <tr>\n",
       "            <td>ago    </td> <td>Angola              </td> <td>africa       </td> <td>-12.5   </td> <td>18.5     </td>\n",
       "        </tr>\n",
       "        <tr>\n",
       "            <td>alb    </td> <td>Albania             </td> <td>europe       </td> <td>41      </td> <td>20       </td>\n",
       "        </tr>\n",
       "        <tr>\n",
       "            <td>and    </td> <td>Andorra             </td> <td>europe       </td> <td>42.5078 </td> <td>1.52109  </td>\n",
       "        </tr>\n",
       "        <tr>\n",
       "            <td>are    </td> <td>United Arab Emirates</td> <td>asia         </td> <td>23.75   </td> <td>54.5     </td>\n",
       "        </tr>\n",
       "        <tr>\n",
       "            <td>arg    </td> <td>Argentina           </td> <td>americas     </td> <td>-34     </td> <td>-64      </td>\n",
       "        </tr>\n",
       "        <tr>\n",
       "            <td>arm    </td> <td>Armenia             </td> <td>europe       </td> <td>40.25   </td> <td>45       </td>\n",
       "        </tr>\n",
       "        <tr>\n",
       "            <td>atg    </td> <td>Antigua and Barbuda </td> <td>americas     </td> <td>17.05   </td> <td>-61.8    </td>\n",
       "        </tr>\n",
       "        <tr>\n",
       "            <td>aus    </td> <td>Australia           </td> <td>asia         </td> <td>-25     </td> <td>135      </td>\n",
       "        </tr>\n",
       "        <tr>\n",
       "            <td>aut    </td> <td>Austria             </td> <td>europe       </td> <td>47.3333 </td> <td>13.3333  </td>\n",
       "        </tr>\n",
       "    </tbody>\n",
       "</table>\n",
       "<p>... (187 rows omitted)</p>"
      ],
      "text/plain": [
       "country | name                 | world_4region | latitude | longitude\n",
       "afg     | Afghanistan          | asia          | 33       | 66\n",
       "ago     | Angola               | africa        | -12.5    | 18.5\n",
       "alb     | Albania              | europe        | 41       | 20\n",
       "and     | Andorra              | europe        | 42.5078  | 1.52109\n",
       "are     | United Arab Emirates | asia          | 23.75    | 54.5\n",
       "arg     | Argentina            | americas      | -34      | -64\n",
       "arm     | Armenia              | europe        | 40.25    | 45\n",
       "atg     | Antigua and Barbuda  | americas      | 17.05    | -61.8\n",
       "aus     | Australia            | asia          | -25      | 135\n",
       "aut     | Austria              | europe        | 47.3333  | 13.3333\n",
       "... (187 rows omitted)"
      ]
     },
     "execution_count": 141,
     "metadata": {},
     "output_type": "execute_result"
    }
   ],
   "source": [
    "countries.select('country', 'name', 'world_4region', 'latitude', 'longitude')"
   ]
  },
  {
   "cell_type": "markdown",
   "metadata": {
    "deletable": false,
    "editable": false
   },
   "source": [
    "**Question 4.** Using both `countries` and `recent_poverty_total`, create a five-column table called `poverty_map` with one row for every country in `recent_poverty_total`.  The five columns should have the following labels and contents:\n",
    "1. `latitude` contains the country's latitude,\n",
    "1. `longitude` contains the country's longitude,\n",
    "1. `name` contains the country's name,\n",
    "1. `region` contains the country's region from the `world_4region` column of `countries`,\n",
    "1. `poverty_total` contains the country's poverty total.\n",
    "\n",
    "<!--\n",
    "BEGIN QUESTION\n",
    "name: q2_4\n",
    "-->"
   ]
  },
  {
   "cell_type": "code",
   "execution_count": 146,
   "metadata": {
    "deletable": false
   },
   "outputs": [
    {
     "data": {
      "text/html": [
       "<table border=\"1\" class=\"dataframe\">\n",
       "    <thead>\n",
       "        <tr>\n",
       "            <th>latitude</th> <th>longitude</th> <th>name</th> <th>region</th> <th>poverty_total</th>\n",
       "        </tr>\n",
       "    </thead>\n",
       "    <tbody>\n",
       "        <tr>\n",
       "            <td>-12.5   </td> <td>18.5     </td> <td>Angola    </td> <td>africa  </td> <td>1.01296e+07  </td>\n",
       "        </tr>\n",
       "        <tr>\n",
       "            <td>41      </td> <td>20       </td> <td>Albania   </td> <td>europe  </td> <td>13561        </td>\n",
       "        </tr>\n",
       "        <tr>\n",
       "            <td>-34     </td> <td>-64      </td> <td>Argentina </td> <td>americas</td> <td>576630       </td>\n",
       "        </tr>\n",
       "        <tr>\n",
       "            <td>40.25   </td> <td>45       </td> <td>Armenia   </td> <td>europe  </td> <td>50353        </td>\n",
       "        </tr>\n",
       "        <tr>\n",
       "            <td>-25     </td> <td>135      </td> <td>Australia </td> <td>asia    </td> <td>301304       </td>\n",
       "        </tr>\n",
       "        <tr>\n",
       "            <td>47.3333 </td> <td>13.3333  </td> <td>Austria   </td> <td>europe  </td> <td>28594        </td>\n",
       "        </tr>\n",
       "        <tr>\n",
       "            <td>40.5    </td> <td>47.5     </td> <td>Azerbaijan</td> <td>europe  </td> <td>28001        </td>\n",
       "        </tr>\n",
       "        <tr>\n",
       "            <td>-3.5    </td> <td>30       </td> <td>Burundi   </td> <td>africa  </td> <td>7.055e+06    </td>\n",
       "        </tr>\n",
       "        <tr>\n",
       "            <td>50.75   </td> <td>4.5      </td> <td>Belgium   </td> <td>europe  </td> <td>54694        </td>\n",
       "        </tr>\n",
       "        <tr>\n",
       "            <td>9.5     </td> <td>2.25     </td> <td>Benin     </td> <td>africa  </td> <td>4.74774e+06  </td>\n",
       "        </tr>\n",
       "    </tbody>\n",
       "</table>\n",
       "<p>... (135 rows omitted)</p>"
      ],
      "text/plain": [
       "latitude | longitude | name       | region   | poverty_total\n",
       "-12.5    | 18.5      | Angola     | africa   | 1.01296e+07\n",
       "41       | 20        | Albania    | europe   | 13561\n",
       "-34      | -64       | Argentina  | americas | 576630\n",
       "40.25    | 45        | Armenia    | europe   | 50353\n",
       "-25      | 135       | Australia  | asia     | 301304\n",
       "47.3333  | 13.3333   | Austria    | europe   | 28594\n",
       "40.5     | 47.5      | Azerbaijan | europe   | 28001\n",
       "-3.5     | 30        | Burundi    | africa   | 7.055e+06\n",
       "50.75    | 4.5       | Belgium    | europe   | 54694\n",
       "9.5      | 2.25      | Benin      | africa   | 4.74774e+06\n",
       "... (135 rows omitted)"
      ]
     },
     "execution_count": 146,
     "metadata": {},
     "output_type": "execute_result"
    }
   ],
   "source": [
    "poverty_map = countries.join('country', recent_poverty_total, 'geo').select('latitude','longitude','name', 'world_4region','poverty_total').relabel('world_4region', 'region')\n",
    "poverty_map"
   ]
  },
  {
   "cell_type": "code",
   "execution_count": 147,
   "metadata": {
    "deletable": false,
    "editable": false
   },
   "outputs": [
    {
     "name": "stdout",
     "output_type": "stream",
     "text": [
      "~~~~~~~~~~~~~~~~~~~~~~~~~~~~~~~~~~~~~~~~~~~~~~~~~~~~~~~~~~~~~~~~~~~~~\n",
      "Running tests\n",
      "\n",
      "---------------------------------------------------------------------\n",
      "Test summary\n",
      "    Passed: 2\n",
      "    Failed: 0\n",
      "[ooooooooook] 100.0% passed\n",
      "\n"
     ]
    }
   ],
   "source": [
    "ok.grade(\"q2_4\");"
   ]
  },
  {
   "cell_type": "markdown",
   "metadata": {
    "deletable": false,
    "editable": false
   },
   "source": [
    "Run the cell below to draw a map of the world in which the areas of circles represent the number of people living in extreme poverty. Double-click on the map to zoom in."
   ]
  },
  {
   "cell_type": "code",
   "execution_count": 148,
   "metadata": {
    "deletable": false,
    "editable": false
   },
   "outputs": [
    {
     "data": {
      "text/html": [
       "<div style=\"width:100%;\"><div style=\"position:relative;width:100%;height:0;padding-bottom:60%;\"><span style=\"color:#565656\">Make this Notebook Trusted to load map: File -> Trust Notebook</span><iframe src=\"about:blank\" style=\"position:absolute;width:100%;height:100%;left:0;top:0;border:none !important;\" data-html=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 onload=\"this.contentDocument.open();this.contentDocument.write(atob(this.getAttribute('data-html')));this.contentDocument.close();\" allowfullscreen webkitallowfullscreen mozallowfullscreen></iframe></div></div>"
      ],
      "text/plain": [
       "<datascience.maps.Map at 0x7fc544497670>"
      ]
     },
     "execution_count": 148,
     "metadata": {},
     "output_type": "execute_result"
    }
   ],
   "source": [
    "# It may take a few seconds to generate this map.\n",
    "colors = {'africa': 'blue', 'europe': 'black', 'asia': 'red', 'americas': 'green'}\n",
    "scaled = poverty_map.with_columns(\n",
    "    'poverty_total', 1e-4 * poverty_map.column('poverty_total'),\n",
    "    'region', poverty_map.apply(colors.get, 'region')\n",
    ")\n",
    "Circle.map_table(scaled)"
   ]
  },
  {
   "cell_type": "markdown",
   "metadata": {
    "deletable": false,
    "editable": false
   },
   "source": [
    "Although people live in extreme poverty throughout the world (with more than 5 million in the United States), the largest numbers are in Asia and Africa."
   ]
  },
  {
   "cell_type": "markdown",
   "metadata": {
    "deletable": false,
    "editable": false
   },
   "source": [
    "**Question 5.** Assign `largest` to a two-column table with the `name` (not the 3-letter code) and `poverty_total` of the 10 countries with the largest number of people living in extreme poverty.\n",
    "\n",
    "<!--\n",
    "BEGIN QUESTION\n",
    "name: q2_5\n",
    "-->"
   ]
  },
  {
   "cell_type": "code",
   "execution_count": 153,
   "metadata": {
    "deletable": false
   },
   "outputs": [
    {
     "data": {
      "text/html": [
       "<table border=\"1\" class=\"dataframe\">\n",
       "    <thead>\n",
       "        <tr>\n",
       "            <th>name</th> <th>poverty_total</th>\n",
       "        </tr>\n",
       "    </thead>\n",
       "    <tbody>\n",
       "        <tr>\n",
       "            <td>India           </td> <td>291,660,639.00</td>\n",
       "        </tr>\n",
       "        <tr>\n",
       "            <td>Nigeria         </td> <td>98,319,537.00 </td>\n",
       "        </tr>\n",
       "        <tr>\n",
       "            <td>China           </td> <td>85,687,544.00 </td>\n",
       "        </tr>\n",
       "        <tr>\n",
       "            <td>Bangladesh      </td> <td>63,826,375.00 </td>\n",
       "        </tr>\n",
       "        <tr>\n",
       "            <td>Congo, Dem. Rep.</td> <td>56,635,412.00 </td>\n",
       "        </tr>\n",
       "        <tr>\n",
       "            <td>Indonesia       </td> <td>39,177,145.00 </td>\n",
       "        </tr>\n",
       "        <tr>\n",
       "            <td>Ethiopia        </td> <td>32,242,742.00 </td>\n",
       "        </tr>\n",
       "        <tr>\n",
       "            <td>Pakistan        </td> <td>22,858,700.00 </td>\n",
       "        </tr>\n",
       "        <tr>\n",
       "            <td>Tanzania        </td> <td>19,281,872.00 </td>\n",
       "        </tr>\n",
       "        <tr>\n",
       "            <td>Madagascar      </td> <td>18,543,643.00 </td>\n",
       "        </tr>\n",
       "    </tbody>\n",
       "</table>"
      ],
      "text/plain": [
       "name             | poverty_total\n",
       "India            | 291,660,639.00\n",
       "Nigeria          | 98,319,537.00\n",
       "China            | 85,687,544.00\n",
       "Bangladesh       | 63,826,375.00\n",
       "Congo, Dem. Rep. | 56,635,412.00\n",
       "Indonesia        | 39,177,145.00\n",
       "Ethiopia         | 32,242,742.00\n",
       "Pakistan         | 22,858,700.00\n",
       "Tanzania         | 19,281,872.00\n",
       "Madagascar       | 18,543,643.00"
      ]
     },
     "execution_count": 153,
     "metadata": {},
     "output_type": "execute_result"
    }
   ],
   "source": [
    "largest = poverty_map.sort('poverty_total', descending=True).select('name', 'poverty_total').take(np.arange(0,10))\n",
    "largest.set_format('poverty_total', NumberFormatter)"
   ]
  },
  {
   "cell_type": "code",
   "execution_count": 154,
   "metadata": {
    "deletable": false,
    "editable": false
   },
   "outputs": [
    {
     "name": "stdout",
     "output_type": "stream",
     "text": [
      "~~~~~~~~~~~~~~~~~~~~~~~~~~~~~~~~~~~~~~~~~~~~~~~~~~~~~~~~~~~~~~~~~~~~~\n",
      "Running tests\n",
      "\n",
      "---------------------------------------------------------------------\n",
      "Test summary\n",
      "    Passed: 3\n",
      "    Failed: 0\n",
      "[ooooooooook] 100.0% passed\n",
      "\n"
     ]
    }
   ],
   "source": [
    "ok.grade(\"q2_5\");"
   ]
  },
  {
   "cell_type": "markdown",
   "metadata": {
    "deletable": false
   },
   "source": [
    "**Question 6.** Write a function called `poverty_timeline` that takes **the name of a country** as its argument. It should draw a line plot of the number of people living in poverty in that country with time on the horizontal axis. The line plot should have a point for each row in the `poverty` table for that country. To compute the population living in poverty from a poverty percentage, multiply by the population of the country **in that year**.\n",
    "\n",
    "*Hint:* This question is long. Feel free to create cells and experiment. "
   ]
  },
  {
   "cell_type": "code",
   "execution_count": 181,
   "metadata": {},
   "outputs": [],
   "source": [
    "def poverty_timeline(country): \n",
    "    '''Draw a timeline of people living in extreme poverty in a country.'''\n",
    "    geo = countries.where('name', country).column('country').item(0)\n",
    "    country_match_poverty = poverty.where('geo', geo).drop('geo')\n",
    "    pop_country = population.where('geo', geo).drop('geo')\n",
    "    pop_percent_country = country_match_poverty.join('time', pop_country, 'time').relabel('extreme_poverty_percent_people_below_125_a_day', 'poverty_percent')\n",
    "    pop_poverty_arr = (pop_percent_country.column('poverty_percent')/100)* pop_percent_country.column('population_total')\n",
    "    tbl = Table().with_columns(\n",
    "        'time', pop_percent_country.column('time'), \n",
    "        'pop_poverty', pop_poverty_arr\n",
    "    )\n",
    "    tbl.plot('time', 'pop_poverty')"
   ]
  },
  {
   "cell_type": "markdown",
   "metadata": {
    "deletable": false,
    "editable": false
   },
   "source": [
    "Finally, draw the timelines below to see how the world is changing. You can check your work by comparing your graphs to the ones on [gapminder.org](https://www.gapminder.org/tools/#$state$entities$show$country$/$in@=ind;;;;&marker$axis_y$which=number_of_people_in_poverty&scaleType=linear&spaceRef:null;;;&chart-type=linechart).\n",
    "\n",
    "<!--\n",
    "BEGIN QUESTION\n",
    "name: q2_6\n",
    "manual: true\n",
    "-->\n",
    "<!-- EXPORT TO PDF -->"
   ]
  },
  {
   "cell_type": "code",
   "execution_count": 182,
   "metadata": {
    "export_pdf": true
   },
   "outputs": [
    {
     "data": {
      "image/png": "[encoded data removed]",
      "text/plain": [
       "<Figure size 432x288 with 1 Axes>"
      ]
     },
     "metadata": {},
     "output_type": "display_data"
    },
    {
     "data": {
      "image/png": "[encoded data removed]",
      "text/plain": [
       "<Figure size 432x288 with 1 Axes>"
      ]
     },
     "metadata": {},
     "output_type": "display_data"
    },
    {
     "data": {
      "image/png": "[encoded data removed]",
      "text/plain": [
       "<Figure size 432x288 with 1 Axes>"
      ]
     },
     "metadata": {},
     "output_type": "display_data"
    },
    {
     "data": {
      "image/png": "[encoded data removed]",
      "text/plain": [
       "<Figure size 432x288 with 1 Axes>"
      ]
     },
     "metadata": {},
     "output_type": "display_data"
    }
   ],
   "source": [
    "poverty_timeline('India')\n",
    "poverty_timeline('Nigeria')\n",
    "poverty_timeline('China')\n",
    "poverty_timeline('United States')"
   ]
  },
  {
   "cell_type": "markdown",
   "metadata": {
    "deletable": false,
    "editable": false
   },
   "source": [
    "Although the number of people living in extreme poverty has been increasing in Nigeria and the United States, the massive decreases in China and India have shaped the overall trend that extreme poverty is decreasing worldwide, both in percentage and in absolute number. \n",
    "\n",
    "To learn more, watch [Hans Rosling in a 2015 film](https://www.gapminder.org/videos/dont-panic-end-poverty/) about the UN goal of eradicating extreme poverty from the world. \n",
    "\n",
    "Below, we've also added an interactive dropdown menu for you to visualize `poverty_timeline` graphs for other countries. Note that each dropdown menu selection may take a few seconds to run."
   ]
  },
  {
   "cell_type": "code",
   "execution_count": 183,
   "metadata": {
    "deletable": false,
    "editable": false
   },
   "outputs": [
    {
     "data": {
      "application/vnd.jupyter.widget-view+json": {
       "model_id": "4716c70cc9ad4a1f946b1a8c8924cf4d",
       "version_major": 2,
       "version_minor": 0
      },
      "text/plain": [
       "interactive(children=(Dropdown(description='country', options=('Angola', 'Albania', 'Argentina', 'Armenia', 'A…"
      ]
     },
     "metadata": {},
     "output_type": "display_data"
    }
   ],
   "source": [
    "# Just run this cell\n",
    "\n",
    "all_countries = poverty_map.column('name')\n",
    "_ = widgets.interact(poverty_timeline, country=list(all_countries))"
   ]
  },
  {
   "cell_type": "markdown",
   "metadata": {
    "deletable": false,
    "editable": false
   },
   "source": [
    "**You're finished!** Congratulations on mastering data visualization and table manipulation. Time to submit."
   ]
  },
  {
   "cell_type": "markdown",
   "metadata": {},
   "source": [
    "## 3. Submission\n"
   ]
  },
  {
   "cell_type": "markdown",
   "metadata": {
    "collapsed": true
   },
   "source": [
    "Once you're finished, select \"Save and Checkpoint\" in the File menu and then execute the `submit` cell below. The result will contain a link that you can use to check that your assignment has been submitted successfully. If you submit more than once before the deadline, we will only grade your final submission. If you mistakenly submit the wrong one, you can head to [okpy.org](https://okpy.org/) and flag the correct version. To do so, go to the website, click on this assignment, and find the version you would like to have graded. There should be an option to flag that submission for grading!"
   ]
  },
  {
   "cell_type": "code",
   "execution_count": 184,
   "metadata": {},
   "outputs": [
    {
     "data": {
      "application/javascript": [
       "IPython.notebook.save_checkpoint();"
      ],
      "text/plain": [
       "<IPython.core.display.Javascript object>"
      ]
     },
     "metadata": {},
     "output_type": "display_data"
    },
    {
     "data": {
      "application/javascript": [
       "IPython.notebook.save_notebook();"
      ],
      "text/plain": [
       "<IPython.core.display.Javascript object>"
      ]
     },
     "metadata": {},
     "output_type": "display_data"
    },
    {
     "name": "stdout",
     "output_type": "stream",
     "text": [
      "Saving notebook... Saved 'project1.ipynb'.\n",
      "Submit... 100% complete\n",
      "Submission successful for user: samihamahin@berkeley.edu\n",
      "URL: https://okpy.org/cal/data8/fa20/project1/submissions/OPOkmL\n",
      "\n"
     ]
    }
   ],
   "source": [
    "_ = ok.submit()"
   ]
  },
  {
   "cell_type": "code",
   "execution_count": 186,
   "metadata": {},
   "outputs": [
    {
     "name": "stdout",
     "output_type": "stream",
     "text": [
      "Running all tests...\n",
      "~~~~~~~~~~~~~~~~~~~~~~~~~~~~~~~~~~~~~~~~~~~~~~~~~~~~~~~~~~~~~~~~~~~~~\n",
      "Running tests\n",
      "\n",
      "---------------------------------------------------------------------\n",
      "Test summary\n",
      "    Passed: 2\n",
      "    Failed: 0\n",
      "[ooooooooook] 100.0% passed\n",
      "\n",
      "~~~~~~~~~~~~~~~~~~~~~~~~~~~~~~~~~~~~~~~~~~~~~~~~~~~~~~~~~~~~~~~~~~~~~\n",
      "Running tests\n",
      "\n",
      "---------------------------------------------------------------------\n",
      "Test summary\n",
      "    Passed: 4\n",
      "    Failed: 0\n",
      "[ooooooooook] 100.0% passed\n",
      "\n",
      "~~~~~~~~~~~~~~~~~~~~~~~~~~~~~~~~~~~~~~~~~~~~~~~~~~~~~~~~~~~~~~~~~~~~~\n",
      "Running tests\n",
      "\n",
      "---------------------------------------------------------------------\n",
      "Test summary\n",
      "    Passed: 2\n",
      "    Failed: 0\n",
      "[ooooooooook] 100.0% passed\n",
      "\n",
      "~~~~~~~~~~~~~~~~~~~~~~~~~~~~~~~~~~~~~~~~~~~~~~~~~~~~~~~~~~~~~~~~~~~~~\n",
      "Running tests\n",
      "\n",
      "---------------------------------------------------------------------\n",
      "Test summary\n",
      "    Passed: 4\n",
      "    Failed: 0\n",
      "[ooooooooook] 100.0% passed\n",
      "\n",
      "~~~~~~~~~~~~~~~~~~~~~~~~~~~~~~~~~~~~~~~~~~~~~~~~~~~~~~~~~~~~~~~~~~~~~\n",
      "Running tests\n",
      "\n",
      "---------------------------------------------------------------------\n",
      "Test summary\n",
      "    Passed: 2\n",
      "    Failed: 0\n",
      "[ooooooooook] 100.0% passed\n",
      "\n",
      "~~~~~~~~~~~~~~~~~~~~~~~~~~~~~~~~~~~~~~~~~~~~~~~~~~~~~~~~~~~~~~~~~~~~~\n",
      "Running tests\n",
      "\n",
      "---------------------------------------------------------------------\n",
      "Test summary\n",
      "    Passed: 1\n",
      "    Failed: 0\n",
      "[ooooooooook] 100.0% passed\n",
      "\n",
      "~~~~~~~~~~~~~~~~~~~~~~~~~~~~~~~~~~~~~~~~~~~~~~~~~~~~~~~~~~~~~~~~~~~~~\n",
      "Running tests\n",
      "\n",
      "---------------------------------------------------------------------\n",
      "Test summary\n",
      "    Passed: 2\n",
      "    Failed: 0\n",
      "[ooooooooook] 100.0% passed\n",
      "\n",
      "~~~~~~~~~~~~~~~~~~~~~~~~~~~~~~~~~~~~~~~~~~~~~~~~~~~~~~~~~~~~~~~~~~~~~\n",
      "Running tests\n",
      "\n",
      "---------------------------------------------------------------------\n",
      "Test summary\n",
      "    Passed: 3\n",
      "    Failed: 0\n",
      "[ooooooooook] 100.0% passed\n",
      "\n",
      "~~~~~~~~~~~~~~~~~~~~~~~~~~~~~~~~~~~~~~~~~~~~~~~~~~~~~~~~~~~~~~~~~~~~~\n",
      "Running tests\n",
      "\n",
      "---------------------------------------------------------------------\n",
      "Test summary\n",
      "    Passed: 2\n",
      "    Failed: 0\n",
      "[ooooooooook] 100.0% passed\n",
      "\n",
      "~~~~~~~~~~~~~~~~~~~~~~~~~~~~~~~~~~~~~~~~~~~~~~~~~~~~~~~~~~~~~~~~~~~~~\n",
      "Running tests\n",
      "\n",
      "---------------------------------------------------------------------\n",
      "Test summary\n",
      "    Passed: 1\n",
      "    Failed: 0\n",
      "[ooooooooook] 100.0% passed\n",
      "\n",
      "~~~~~~~~~~~~~~~~~~~~~~~~~~~~~~~~~~~~~~~~~~~~~~~~~~~~~~~~~~~~~~~~~~~~~\n",
      "Running tests\n",
      "\n",
      "---------------------------------------------------------------------\n",
      "Test summary\n",
      "    Passed: 2\n",
      "    Failed: 0\n",
      "[ooooooooook] 100.0% passed\n",
      "\n",
      "~~~~~~~~~~~~~~~~~~~~~~~~~~~~~~~~~~~~~~~~~~~~~~~~~~~~~~~~~~~~~~~~~~~~~\n",
      "Running tests\n",
      "\n",
      "---------------------------------------------------------------------\n",
      "Test summary\n",
      "    Passed: 3\n",
      "    Failed: 0\n",
      "[ooooooooook] 100.0% passed\n",
      "\n",
      "~~~~~~~~~~~~~~~~~~~~~~~~~~~~~~~~~~~~~~~~~~~~~~~~~~~~~~~~~~~~~~~~~~~~~\n",
      "Running tests\n",
      "\n",
      "---------------------------------------------------------------------\n",
      "Test summary\n",
      "    Passed: 1\n",
      "    Failed: 0\n",
      "[ooooooooook] 100.0% passed\n",
      "\n",
      "~~~~~~~~~~~~~~~~~~~~~~~~~~~~~~~~~~~~~~~~~~~~~~~~~~~~~~~~~~~~~~~~~~~~~\n",
      "Running tests\n",
      "\n",
      "---------------------------------------------------------------------\n",
      "Test summary\n",
      "    Passed: 2\n",
      "    Failed: 0\n",
      "[ooooooooook] 100.0% passed\n",
      "\n",
      "~~~~~~~~~~~~~~~~~~~~~~~~~~~~~~~~~~~~~~~~~~~~~~~~~~~~~~~~~~~~~~~~~~~~~\n",
      "Running tests\n",
      "\n",
      "---------------------------------------------------------------------\n",
      "Test summary\n",
      "    Passed: 3\n",
      "    Failed: 0\n",
      "[ooooooooook] 100.0% passed\n",
      "\n",
      "Finished running all tests.\n"
     ]
    }
   ],
   "source": [
    "# For your convenience, you can run this cell to run all the tests at once!\n",
    "import os\n",
    "print(\"Running all tests...\")\n",
    "_ = [ok.grade(q[:-3]) for q in os.listdir(\"tests\") if q.startswith('q') and len(q) <= 10]\n",
    "print(\"Finished running all tests.\")"
   ]
  },
  {
   "cell_type": "code",
   "execution_count": null,
   "metadata": {},
   "outputs": [],
   "source": []
  }
 ],
 "metadata": {
  "kernelspec": {
   "display_name": "Python 3",
   "language": "python",
   "name": "python3"
  },
  "language_info": {
   "codemirror_mode": {
    "name": "ipython",
    "version": 3
   },
   "file_extension": ".py",
   "mimetype": "text/x-python",
   "name": "python",
   "nbconvert_exporter": "python",
   "pygments_lexer": "ipython3",
   "version": "3.8.6"
  },
  "widgets": {
   "application/vnd.jupyter.widget-state+json": {
    "state": {
     "0114ad3078db4a479337bcd8224e55d9": {
      "model_module": "@jupyter-widgets/output",
      "model_module_version": "1.0.0",
      "model_name": "OutputModel",
      "state": {
       "_dom_classes": [],
       "_model_module": "@jupyter-widgets/output",
       "_model_module_version": "1.0.0",
       "_model_name": "OutputModel",
       "_view_count": null,
       "_view_module": "@jupyter-widgets/output",
       "_view_module_version": "1.0.0",
       "_view_name": "OutputView",
       "layout": "IPY_MODEL_276443f35cda42e09201faaf8fac6497",
       "msg_id": "",
       "outputs": []
      }
     },
     "1fc6398f14e044cc8a1ce8551989183b": {
      "model_module": "@jupyter-widgets/controls",
      "model_module_version": "1.5.0",
      "model_name": "DescriptionStyleModel",
      "state": {
       "_model_module": "@jupyter-widgets/controls",
       "_model_module_version": "1.5.0",
       "_model_name": "DescriptionStyleModel",
       "_view_count": null,
       "_view_module": "@jupyter-widgets/base",
       "_view_module_version": "1.2.0",
       "_view_name": "StyleView",
       "description_width": ""
      }
     },
     "276443f35cda42e09201faaf8fac6497": {
      "model_module": "@jupyter-widgets/base",
      "model_module_version": "1.2.0",
      "model_name": "LayoutModel",
      "state": {
       "_model_module": "@jupyter-widgets/base",
       "_model_module_version": "1.2.0",
       "_model_name": "LayoutModel",
       "_view_count": null,
       "_view_module": "@jupyter-widgets/base",
       "_view_module_version": "1.2.0",
       "_view_name": "LayoutView",
       "align_content": null,
       "align_items": null,
       "align_self": null,
       "border": null,
       "bottom": null,
       "display": null,
       "flex": null,
       "flex_flow": null,
       "grid_area": null,
       "grid_auto_columns": null,
       "grid_auto_flow": null,
       "grid_auto_rows": null,
       "grid_column": null,
       "grid_gap": null,
       "grid_row": null,
       "grid_template_areas": null,
       "grid_template_columns": null,
       "grid_template_rows": null,
       "height": null,
       "justify_content": null,
       "justify_items": null,
       "left": null,
       "margin": null,
       "max_height": null,
       "max_width": null,
       "min_height": null,
       "min_width": null,
       "object_fit": null,
       "object_position": null,
       "order": null,
       "overflow": null,
       "overflow_x": null,
       "overflow_y": null,
       "padding": null,
       "right": null,
       "top": null,
       "visibility": null,
       "width": null
      }
     },
     "39a97358d3644570ac526587d88af5e2": {
      "model_module": "@jupyter-widgets/base",
      "model_module_version": "1.2.0",
      "model_name": "LayoutModel",
      "state": {
       "_model_module": "@jupyter-widgets/base",
       "_model_module_version": "1.2.0",
       "_model_name": "LayoutModel",
       "_view_count": null,
       "_view_module": "@jupyter-widgets/base",
       "_view_module_version": "1.2.0",
       "_view_name": "LayoutView",
       "align_content": null,
       "align_items": null,
       "align_self": null,
       "border": null,
       "bottom": null,
       "display": null,
       "flex": null,
       "flex_flow": null,
       "grid_area": null,
       "grid_auto_columns": null,
       "grid_auto_flow": null,
       "grid_auto_rows": null,
       "grid_column": null,
       "grid_gap": null,
       "grid_row": null,
       "grid_template_areas": null,
       "grid_template_columns": null,
       "grid_template_rows": null,
       "height": null,
       "justify_content": null,
       "justify_items": null,
       "left": null,
       "margin": null,
       "max_height": null,
       "max_width": null,
       "min_height": null,
       "min_width": null,
       "object_fit": null,
       "object_position": null,
       "order": null,
       "overflow": null,
       "overflow_x": null,
       "overflow_y": null,
       "padding": null,
       "right": null,
       "top": null,
       "visibility": null,
       "width": null
      }
     },
     "3dfe7b5d2ce74e899172561709d82350": {
      "model_module": "@jupyter-widgets/controls",
      "model_module_version": "1.5.0",
      "model_name": "VBoxModel",
      "state": {
       "_dom_classes": [
        "widget-interact"
       ],
       "_model_module": "@jupyter-widgets/controls",
       "_model_module_version": "1.5.0",
       "_model_name": "VBoxModel",
       "_view_count": null,
       "_view_module": "@jupyter-widgets/controls",
       "_view_module_version": "1.5.0",
       "_view_name": "VBoxView",
       "box_style": "",
       "children": [
        "IPY_MODEL_3fb826043d5742f9a82dafdfe3e9118a",
        "IPY_MODEL_0114ad3078db4a479337bcd8224e55d9"
       ],
       "layout": "IPY_MODEL_412ca64f26df4d008cd7fb497105e0c9"
      }
     },
     "3fb826043d5742f9a82dafdfe3e9118a": {
      "model_module": "@jupyter-widgets/controls",
      "model_module_version": "1.5.0",
      "model_name": "IntSliderModel",
      "state": {
       "_dom_classes": [],
       "_model_module": "@jupyter-widgets/controls",
       "_model_module_version": "1.5.0",
       "_model_name": "IntSliderModel",
       "_view_count": null,
       "_view_module": "@jupyter-widgets/controls",
       "_view_module_version": "1.5.0",
       "_view_name": "IntSliderView",
       "continuous_update": true,
       "description": "year",
       "description_tooltip": null,
       "disabled": false,
       "layout": "IPY_MODEL_39a97358d3644570ac526587d88af5e2",
       "max": 2015,
       "min": 1960,
       "orientation": "horizontal",
       "readout": true,
       "readout_format": "d",
       "step": 1,
       "style": "IPY_MODEL_61002bda6285462685d2226a7acce16e",
       "value": 1960
      }
     },
     "412ca64f26df4d008cd7fb497105e0c9": {
      "model_module": "@jupyter-widgets/base",
      "model_module_version": "1.2.0",
      "model_name": "LayoutModel",
      "state": {
       "_model_module": "@jupyter-widgets/base",
       "_model_module_version": "1.2.0",
       "_model_name": "LayoutModel",
       "_view_count": null,
       "_view_module": "@jupyter-widgets/base",
       "_view_module_version": "1.2.0",
       "_view_name": "LayoutView",
       "align_content": null,
       "align_items": null,
       "align_self": null,
       "border": null,
       "bottom": null,
       "display": null,
       "flex": null,
       "flex_flow": null,
       "grid_area": null,
       "grid_auto_columns": null,
       "grid_auto_flow": null,
       "grid_auto_rows": null,
       "grid_column": null,
       "grid_gap": null,
       "grid_row": null,
       "grid_template_areas": null,
       "grid_template_columns": null,
       "grid_template_rows": null,
       "height": null,
       "justify_content": null,
       "justify_items": null,
       "left": null,
       "margin": null,
       "max_height": null,
       "max_width": null,
       "min_height": null,
       "min_width": null,
       "object_fit": null,
       "object_position": null,
       "order": null,
       "overflow": null,
       "overflow_x": null,
       "overflow_y": null,
       "padding": null,
       "right": null,
       "top": null,
       "visibility": null,
       "width": null
      }
     },
     "5db3af59349b40ac8412ede7fb796fa8": {
      "model_module": "@jupyter-widgets/base",
      "model_module_version": "1.2.0",
      "model_name": "LayoutModel",
      "state": {
       "_model_module": "@jupyter-widgets/base",
       "_model_module_version": "1.2.0",
       "_model_name": "LayoutModel",
       "_view_count": null,
       "_view_module": "@jupyter-widgets/base",
       "_view_module_version": "1.2.0",
       "_view_name": "LayoutView",
       "align_content": null,
       "align_items": null,
       "align_self": null,
       "border": null,
       "bottom": null,
       "display": null,
       "flex": null,
       "flex_flow": null,
       "grid_area": null,
       "grid_auto_columns": null,
       "grid_auto_flow": null,
       "grid_auto_rows": null,
       "grid_column": null,
       "grid_gap": null,
       "grid_row": null,
       "grid_template_areas": null,
       "grid_template_columns": null,
       "grid_template_rows": null,
       "height": null,
       "justify_content": null,
       "justify_items": null,
       "left": null,
       "margin": null,
       "max_height": null,
       "max_width": null,
       "min_height": null,
       "min_width": null,
       "object_fit": null,
       "object_position": null,
       "order": null,
       "overflow": null,
       "overflow_x": null,
       "overflow_y": null,
       "padding": null,
       "right": null,
       "top": null,
       "visibility": null,
       "width": null
      }
     },
     "61002bda6285462685d2226a7acce16e": {
      "model_module": "@jupyter-widgets/controls",
      "model_module_version": "1.5.0",
      "model_name": "SliderStyleModel",
      "state": {
       "_model_module": "@jupyter-widgets/controls",
       "_model_module_version": "1.5.0",
       "_model_name": "SliderStyleModel",
       "_view_count": null,
       "_view_module": "@jupyter-widgets/base",
       "_view_module_version": "1.2.0",
       "_view_name": "StyleView",
       "description_width": "",
       "handle_color": null
      }
     },
     "68fb317c917a438c9bc95cd1c03b30da": {
      "model_module": "@jupyter-widgets/controls",
      "model_module_version": "1.5.0",
      "model_name": "VBoxModel",
      "state": {
       "_dom_classes": [
        "widget-interact"
       ],
       "_model_module": "@jupyter-widgets/controls",
       "_model_module_version": "1.5.0",
       "_model_name": "VBoxModel",
       "_view_count": null,
       "_view_module": "@jupyter-widgets/controls",
       "_view_module_version": "1.5.0",
       "_view_name": "VBoxView",
       "box_style": "",
       "children": [
        "IPY_MODEL_f139d990792a4256b383c9ba66ae8b71",
        "IPY_MODEL_c6ee9d742cb04fc4ac83408666ef5517"
       ],
       "layout": "IPY_MODEL_740df27b4b044ed5a30c7f4fbbec3400"
      }
     },
     "740df27b4b044ed5a30c7f4fbbec3400": {
      "model_module": "@jupyter-widgets/base",
      "model_module_version": "1.2.0",
      "model_name": "LayoutModel",
      "state": {
       "_model_module": "@jupyter-widgets/base",
       "_model_module_version": "1.2.0",
       "_model_name": "LayoutModel",
       "_view_count": null,
       "_view_module": "@jupyter-widgets/base",
       "_view_module_version": "1.2.0",
       "_view_name": "LayoutView",
       "align_content": null,
       "align_items": null,
       "align_self": null,
       "border": null,
       "bottom": null,
       "display": null,
       "flex": null,
       "flex_flow": null,
       "grid_area": null,
       "grid_auto_columns": null,
       "grid_auto_flow": null,
       "grid_auto_rows": null,
       "grid_column": null,
       "grid_gap": null,
       "grid_row": null,
       "grid_template_areas": null,
       "grid_template_columns": null,
       "grid_template_rows": null,
       "height": null,
       "justify_content": null,
       "justify_items": null,
       "left": null,
       "margin": null,
       "max_height": null,
       "max_width": null,
       "min_height": null,
       "min_width": null,
       "object_fit": null,
       "object_position": null,
       "order": null,
       "overflow": null,
       "overflow_x": null,
       "overflow_y": null,
       "padding": null,
       "right": null,
       "top": null,
       "visibility": null,
       "width": null
      }
     },
     "9439aab3cc9a47389ee68326026751d0": {
      "model_module": "@jupyter-widgets/base",
      "model_module_version": "1.2.0",
      "model_name": "LayoutModel",
      "state": {
       "_model_module": "@jupyter-widgets/base",
       "_model_module_version": "1.2.0",
       "_model_name": "LayoutModel",
       "_view_count": null,
       "_view_module": "@jupyter-widgets/base",
       "_view_module_version": "1.2.0",
       "_view_name": "LayoutView",
       "align_content": null,
       "align_items": null,
       "align_self": null,
       "border": null,
       "bottom": null,
       "display": null,
       "flex": null,
       "flex_flow": null,
       "grid_area": null,
       "grid_auto_columns": null,
       "grid_auto_flow": null,
       "grid_auto_rows": null,
       "grid_column": null,
       "grid_gap": null,
       "grid_row": null,
       "grid_template_areas": null,
       "grid_template_columns": null,
       "grid_template_rows": null,
       "height": null,
       "justify_content": null,
       "justify_items": null,
       "left": null,
       "margin": null,
       "max_height": null,
       "max_width": null,
       "min_height": null,
       "min_width": null,
       "object_fit": null,
       "object_position": null,
       "order": null,
       "overflow": null,
       "overflow_x": null,
       "overflow_y": null,
       "padding": null,
       "right": null,
       "top": null,
       "visibility": null,
       "width": null
      }
     },
     "c6ee9d742cb04fc4ac83408666ef5517": {
      "model_module": "@jupyter-widgets/output",
      "model_module_version": "1.0.0",
      "model_name": "OutputModel",
      "state": {
       "_dom_classes": [],
       "_model_module": "@jupyter-widgets/output",
       "_model_module_version": "1.0.0",
       "_model_name": "OutputModel",
       "_view_count": null,
       "_view_module": "@jupyter-widgets/output",
       "_view_module_version": "1.0.0",
       "_view_name": "OutputView",
       "layout": "IPY_MODEL_9439aab3cc9a47389ee68326026751d0",
       "msg_id": "",
       "outputs": []
      }
     },
     "f139d990792a4256b383c9ba66ae8b71": {
      "model_module": "@jupyter-widgets/controls",
      "model_module_version": "1.5.0",
      "model_name": "DropdownModel",
      "state": {
       "_dom_classes": [],
       "_model_module": "@jupyter-widgets/controls",
       "_model_module_version": "1.5.0",
       "_model_name": "DropdownModel",
       "_options_labels": [
        "Angola",
        "Albania",
        "Argentina",
        "Armenia",
        "Australia",
        "Austria",
        "Azerbaijan",
        "Burundi",
        "Belgium",
        "Benin",
        "Burkina Faso",
        "Bangladesh",
        "Bulgaria",
        "Bosnia and Herzegovina",
        "Belarus",
        "Belize",
        "Bolivia",
        "Brazil",
        "Bhutan",
        "Botswana",
        "Central African Republic",
        "Canada",
        "Switzerland",
        "Chile",
        "China",
        "Cote d'Ivoire",
        "Cameroon",
        "Congo, Dem. Rep.",
        "Congo, Rep.",
        "Colombia",
        "Comoros",
        "Cape Verde",
        "Costa Rica",
        "Czech Republic",
        "Germany",
        "Djibouti",
        "Denmark",
        "Dominican Republic",
        "Algeria",
        "Ecuador",
        "Egypt",
        "Spain",
        "Estonia",
        "Ethiopia",
        "Finland",
        "Fiji",
        "France",
        "Micronesia, Fed. Sts.",
        "Gabon",
        "United Kingdom",
        "Georgia",
        "Ghana",
        "Guinea",
        "Gambia",
        "Guinea-Bissau",
        "Greece",
        "Guatemala",
        "Guyana",
        "Honduras",
        "Croatia",
        "Haiti",
        "Hungary",
        "Indonesia",
        "India",
        "Ireland",
        "Iran",
        "Iraq",
        "Israel",
        "Italy",
        "Jamaica",
        "Jordan",
        "Japan",
        "Kazakhstan",
        "Kenya",
        "Kyrgyz Republic",
        "Cambodia",
        "Lao",
        "Liberia",
        "St. Lucia",
        "Sri Lanka",
        "Lesotho",
        "Lithuania",
        "Latvia",
        "Morocco",
        "Moldova",
        "Madagascar",
        "Maldives",
        "Mexico",
        "North Macedonia",
        "Mali",
        "Montenegro",
        "Mozambique",
        "Mauritania",
        "Malawi",
        "Malaysia",
        "Namibia",
        "Niger",
        "Nigeria",
        "Nicaragua",
        "Netherlands",
        "Norway",
        "Nepal",
        "Pakistan",
        "Panama",
        "Peru",
        "Philippines",
        "Papua New Guinea",
        "Poland",
        "Paraguay",
        "Palestine",
        "Romania",
        "Russia",
        "Rwanda",
        "Sudan",
        "Senegal",
        "Sierra Leone",
        "El Salvador",
        "Serbia",
        "Sao Tome and Principe",
        "Suriname",
        "Slovak Republic",
        "Slovenia",
        "Sweden",
        "Swaziland",
        "Seychelles",
        "Syria",
        "Chad",
        "Togo",
        "Thailand",
        "Tajikistan",
        "Turkmenistan",
        "Timor-Leste",
        "Trinidad and Tobago",
        "Tunisia",
        "Turkey",
        "Tanzania",
        "Uganda",
        "Ukraine",
        "Uruguay",
        "United States",
        "Venezuela",
        "Vietnam",
        "Yemen",
        "South Africa",
        "Zambia"
       ],
       "_view_count": null,
       "_view_module": "@jupyter-widgets/controls",
       "_view_module_version": "1.5.0",
       "_view_name": "DropdownView",
       "description": "country",
       "description_tooltip": null,
       "disabled": false,
       "index": 0,
       "layout": "IPY_MODEL_5db3af59349b40ac8412ede7fb796fa8",
       "style": "IPY_MODEL_1fc6398f14e044cc8a1ce8551989183b"
      }
     }
    },
    "version_major": 2,
    "version_minor": 0
   }
  }
 },
 "nbformat": 4,
 "nbformat_minor": 1
}
